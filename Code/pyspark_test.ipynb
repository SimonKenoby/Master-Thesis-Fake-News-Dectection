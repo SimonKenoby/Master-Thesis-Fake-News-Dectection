{
 "cells": [
  {
   "cell_type": "code",
   "execution_count": 1,
   "metadata": {},
   "outputs": [],
   "source": [
    "import pyspark\n",
    "from pyspark.sql import SparkSession\n",
    "from pyspark import SparkConf\n",
    "from pyspark.sql.types import StructField, StringType, IntegerType, StructType\n",
    "import numpy as np\n",
    "import pandas as pd\n",
    "\n",
    "import nltk\n",
    "from nltk import tokenize"
   ]
  },
  {
   "cell_type": "code",
   "execution_count": 2,
   "metadata": {},
   "outputs": [],
   "source": [
    "# Define the name of your application.\n",
    "application_name = \"TFE\"\n",
    "\n",
    "# Define the master address, for local mode this is local[*].\n",
    "# If you don't want to use all cores on your machine please specify local[n].\n",
    "master = \"local[*]\"\n",
    "# Number of executors.\n",
    "num_executors = 8\n",
    "# Number of child processes per executors.\n",
    "num_processes = 2\n",
    "# Total number of parallel processes.\n",
    "num_workers = num_executors * num_processes"
   ]
  },
  {
   "cell_type": "code",
   "execution_count": 3,
   "metadata": {},
   "outputs": [
    {
     "data": {
      "text/plain": [
       "<pyspark.conf.SparkConf at 0x7f3c0adcbe48>"
      ]
     },
     "execution_count": 3,
     "metadata": {},
     "output_type": "execute_result"
    }
   ],
   "source": [
    "conf = SparkConf()\n",
    "conf.set(\"spark.app.name\", application_name)\n",
    "conf.set(\"spark.master\", master)\n",
    "conf.set(\"spark.executor.cores\", str(num_processes))\n",
    "conf.set(\"spark.executor.instances\", str(num_executors))\n",
    "conf.set(\"spark.executor.memory\", \"42g\") # Adjust according to your requirements.\n",
    "conf.set(\"spark.locality.wait\", \"0\")"
   ]
  },
  {
   "cell_type": "code",
   "execution_count": 4,
   "metadata": {},
   "outputs": [],
   "source": [
    "spark = SparkSession.builder.config(conf=conf).appName(application_name).getOrCreate()"
   ]
  },
  {
   "cell_type": "code",
   "execution_count": 5,
   "metadata": {},
   "outputs": [],
   "source": [
    "df = spark.read.csv(\"../Data/cleaned_data.csv\", header=True, inferSchema=True)"
   ]
  },
  {
   "cell_type": "code",
   "execution_count": 6,
   "metadata": {},
   "outputs": [
    {
     "name": "stdout",
     "output_type": "stream",
     "text": [
      "root\n",
      " |-- _c0: string (nullable = true)\n",
      " |-- type: string (nullable = true)\n",
      " |-- title: string (nullable = true)\n",
      " |-- preprocess: string (nullable = true)\n",
      "\n"
     ]
    }
   ],
   "source": [
    "df.printSchema()"
   ]
  },
  {
   "cell_type": "code",
   "execution_count": 7,
   "metadata": {},
   "outputs": [
    {
     "name": "stdout",
     "output_type": "stream",
     "text": [
      "+--------+\n",
      "|    type|\n",
      "+--------+\n",
      "|    fake|\n",
      "|    fake|\n",
      "|    fake|\n",
      "|    fake|\n",
      "|    fake|\n",
      "|    fake|\n",
      "|    fake|\n",
      "|    fake|\n",
      "|reliable|\n",
      "|    fake|\n",
      "|    fake|\n",
      "|reliable|\n",
      "|reliable|\n",
      "|reliable|\n",
      "|reliable|\n",
      "|reliable|\n",
      "|reliable|\n",
      "|reliable|\n",
      "|reliable|\n",
      "|    fake|\n",
      "+--------+\n",
      "only showing top 20 rows\n",
      "\n"
     ]
    }
   ],
   "source": [
    "df.select('type').show()"
   ]
  },
  {
   "cell_type": "code",
   "execution_count": 9,
   "metadata": {},
   "outputs": [],
   "source": [
    "fake = df.where('type = \"fake\"')"
   ]
  },
  {
   "cell_type": "code",
   "execution_count": 10,
   "metadata": {},
   "outputs": [
    {
     "name": "stdout",
     "output_type": "stream",
     "text": [
      "+---+----+--------------------+--------------------+\n",
      "|_c0|type|               title|          preprocess|\n",
      "+---+----+--------------------+--------------------+\n",
      "|  0|fake|Surprise: Sociali...|['headline', 'bit...|\n",
      "|  1|fake|Water Cooler 1/25...|['water', 'cooler...|\n",
      "|  2|fake|Veteran Commentat...|['veteran', 'comm...|\n",
      "|  3|fake|Lost Words, Hidde...|['lost', 'words',...|\n",
      "|  4|fake|Red Alert: Bond Y...|['red', 'alert', ...|\n",
      "|  5|fake|Scientists move D...|['scientists', 'd...|\n",
      "|  6|fake|Why Sandwiches Mu...|['sandwiches', 'b...|\n",
      "|  7|fake|Poll: Calls for W...|['poll', 'calls',...|\n",
      "|  9|fake|College Basketbal...|['college', 'bask...|\n",
      "| 10|fake|Conservative Figh...|['war', 'begun', ...|\n",
      "| 19|fake|Celtics vs. Laker...|['view', 'gallery...|\n",
      "| 20|fake|3 Republican Wome...|['gallup', 'relea...|\n",
      "| 21|fake|Sarah Sanders Is ...|['president', 'do...|\n",
      "| 22|fake|CNN Kept Shouting...|['donald', 'trump...|\n",
      "| 23|fake|What The WH Docto...|['physician', 'pr...|\n",
      "| 24|fake|Largest Turnover ...|['obama’s', 'grea...|\n",
      "| 25|fake|FBI Whistleblower...|['fbi', 'whistleb...|\n",
      "| 26|fake|#DeepState Crimin...|['deepstate', 'cr...|\n",
      "| 27|fake|The Truth About t...|['truth', 'israel...|\n",
      "| 28|fake|Father “Call No M...|['father', '“call...|\n",
      "+---+----+--------------------+--------------------+\n",
      "only showing top 20 rows\n",
      "\n"
     ]
    }
   ],
   "source": [
    "fake.show()"
   ]
  },
  {
   "cell_type": "code",
   "execution_count": null,
   "metadata": {},
   "outputs": [],
   "source": []
  }
 ],
 "metadata": {
  "kernelspec": {
   "display_name": "Python 3",
   "language": "python",
   "name": "python3"
  },
  "language_info": {
   "codemirror_mode": {
    "name": "ipython",
    "version": 3
   },
   "file_extension": ".py",
   "mimetype": "text/x-python",
   "name": "python",
   "nbconvert_exporter": "python",
   "pygments_lexer": "ipython3",
   "version": "3.7.0"
  }
 },
 "nbformat": 4,
 "nbformat_minor": 2
}
