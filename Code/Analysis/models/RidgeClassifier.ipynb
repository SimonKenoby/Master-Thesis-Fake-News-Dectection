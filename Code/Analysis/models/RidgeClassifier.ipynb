{
 "cells": [
  {
   "cell_type": "code",
   "execution_count": 1,
   "metadata": {},
   "outputs": [],
   "source": [
    "from pymongo import MongoClient\n",
    "from bson.objectid import ObjectId\n",
    "import altair as alt\n",
    "import pandas as pd\n",
    "import math"
   ]
  },
  {
   "cell_type": "code",
   "execution_count": 2,
   "metadata": {},
   "outputs": [],
   "source": [
    "client = MongoClient('192.168.178.25', 27017)\n",
    "db = client.TFE\n",
    "collection = db.results"
   ]
  },
  {
   "cell_type": "code",
   "execution_count": 10,
   "metadata": {},
   "outputs": [],
   "source": [
    "results = pd.DataFrame(columns = ['type', 'recall', 'precision'])"
   ]
  },
  {
   "cell_type": "code",
   "execution_count": 11,
   "metadata": {},
   "outputs": [],
   "source": [
    "db = collection.find({'model' : 'RidgeClassifier'})"
   ]
  },
  {
   "cell_type": "code",
   "execution_count": 12,
   "metadata": {},
   "outputs": [],
   "source": [
    "for report in db:\n",
    "    clrs = report['classification_report']\n",
    "    for clr in clrs:\n",
    "        results = results.append({'type' : 'fake', 'recall' : clr['fake']['recall'], 'precision' : clr['fake']['precision']}, ignore_index=True)\n",
    "        results = results.append({'type' : 'reliable', 'recall' : clr['reliable']['recall'], 'precision' : clr['reliable']['precision']}, ignore_index=True)"
   ]
  },
  {
   "cell_type": "code",
   "execution_count": 13,
   "metadata": {},
   "outputs": [
    {
     "data": {
      "text/html": [
       "<div>\n",
       "<style scoped>\n",
       "    .dataframe tbody tr th:only-of-type {\n",
       "        vertical-align: middle;\n",
       "    }\n",
       "\n",
       "    .dataframe tbody tr th {\n",
       "        vertical-align: top;\n",
       "    }\n",
       "\n",
       "    .dataframe thead th {\n",
       "        text-align: right;\n",
       "    }\n",
       "</style>\n",
       "<table border=\"1\" class=\"dataframe\">\n",
       "  <thead>\n",
       "    <tr style=\"text-align: right;\">\n",
       "      <th></th>\n",
       "      <th>type</th>\n",
       "      <th>recall</th>\n",
       "      <th>precision</th>\n",
       "    </tr>\n",
       "  </thead>\n",
       "  <tbody>\n",
       "    <tr>\n",
       "      <th>0</th>\n",
       "      <td>fake</td>\n",
       "      <td>0.910812</td>\n",
       "      <td>0.972747</td>\n",
       "    </tr>\n",
       "    <tr>\n",
       "      <th>1</th>\n",
       "      <td>reliable</td>\n",
       "      <td>0.989136</td>\n",
       "      <td>0.963031</td>\n",
       "    </tr>\n",
       "    <tr>\n",
       "      <th>2</th>\n",
       "      <td>fake</td>\n",
       "      <td>0.910474</td>\n",
       "      <td>0.972928</td>\n",
       "    </tr>\n",
       "    <tr>\n",
       "      <th>3</th>\n",
       "      <td>reliable</td>\n",
       "      <td>0.989256</td>\n",
       "      <td>0.963040</td>\n",
       "    </tr>\n",
       "    <tr>\n",
       "      <th>4</th>\n",
       "      <td>fake</td>\n",
       "      <td>0.911376</td>\n",
       "      <td>0.972844</td>\n",
       "    </tr>\n",
       "    <tr>\n",
       "      <th>5</th>\n",
       "      <td>reliable</td>\n",
       "      <td>0.989169</td>\n",
       "      <td>0.963258</td>\n",
       "    </tr>\n",
       "    <tr>\n",
       "      <th>6</th>\n",
       "      <td>fake</td>\n",
       "      <td>0.783084</td>\n",
       "      <td>0.926538</td>\n",
       "    </tr>\n",
       "    <tr>\n",
       "      <th>7</th>\n",
       "      <td>reliable</td>\n",
       "      <td>0.984304</td>\n",
       "      <td>0.947229</td>\n",
       "    </tr>\n",
       "    <tr>\n",
       "      <th>8</th>\n",
       "      <td>fake</td>\n",
       "      <td>0.781269</td>\n",
       "      <td>0.927951</td>\n",
       "    </tr>\n",
       "    <tr>\n",
       "      <th>9</th>\n",
       "      <td>reliable</td>\n",
       "      <td>0.984678</td>\n",
       "      <td>0.946872</td>\n",
       "    </tr>\n",
       "    <tr>\n",
       "      <th>10</th>\n",
       "      <td>fake</td>\n",
       "      <td>0.782979</td>\n",
       "      <td>0.925598</td>\n",
       "    </tr>\n",
       "    <tr>\n",
       "      <th>11</th>\n",
       "      <td>reliable</td>\n",
       "      <td>0.984315</td>\n",
       "      <td>0.947914</td>\n",
       "    </tr>\n",
       "  </tbody>\n",
       "</table>\n",
       "</div>"
      ],
      "text/plain": [
       "        type    recall  precision\n",
       "0       fake  0.910812   0.972747\n",
       "1   reliable  0.989136   0.963031\n",
       "2       fake  0.910474   0.972928\n",
       "3   reliable  0.989256   0.963040\n",
       "4       fake  0.911376   0.972844\n",
       "5   reliable  0.989169   0.963258\n",
       "6       fake  0.783084   0.926538\n",
       "7   reliable  0.984304   0.947229\n",
       "8       fake  0.781269   0.927951\n",
       "9   reliable  0.984678   0.946872\n",
       "10      fake  0.782979   0.925598\n",
       "11  reliable  0.984315   0.947914"
      ]
     },
     "execution_count": 13,
     "metadata": {},
     "output_type": "execute_result"
    }
   ],
   "source": [
    "results"
   ]
  },
  {
   "cell_type": "code",
   "execution_count": null,
   "metadata": {},
   "outputs": [],
   "source": []
  }
 ],
 "metadata": {
  "kernelspec": {
   "display_name": "Python 3",
   "language": "python",
   "name": "python3"
  },
  "language_info": {
   "codemirror_mode": {
    "name": "ipython",
    "version": 3
   },
   "file_extension": ".py",
   "mimetype": "text/x-python",
   "name": "python",
   "nbconvert_exporter": "python",
   "pygments_lexer": "ipython3",
   "version": "3.7.3"
  }
 },
 "nbformat": 4,
 "nbformat_minor": 2
}
