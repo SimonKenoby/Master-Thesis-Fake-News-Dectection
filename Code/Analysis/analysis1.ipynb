{
 "cells": [
  {
   "cell_type": "code",
   "execution_count": 2,
   "metadata": {},
   "outputs": [],
   "source": [
    "from pymongo import MongoClient\n",
    "from bson.objectid import ObjectId\n",
    "import altair as alt\n",
    "import pandas as pd\n",
    "import math"
   ]
  },
  {
   "cell_type": "code",
   "execution_count": 3,
   "metadata": {},
   "outputs": [],
   "source": [
    "client = MongoClient('192.168.178.25', 27017)\n",
    "db = client.TFE\n",
    "collection = db.results"
   ]
  },
  {
   "cell_type": "markdown",
   "metadata": {},
   "source": [
    "# Analysis of results without SMOTE"
   ]
  },
  {
   "cell_type": "code",
   "execution_count": 40,
   "metadata": {},
   "outputs": [],
   "source": [
    "results = pd.DataFrame(columns = ['model', 'type', 'recall', 'precision', 'max_features'])\n",
    "for result in collection.find({'infos' : 'Running on all models, using a max feature for TfidfVectorizer', 'smote.value' : {'$exists' : False}}, {'report' : 1, '_id' : 0, 'max_features' : 1}):\n",
    "    for model in result['report']:\n",
    "        results = results.append({'model' : model['model'], 'type' : 'fake', 'recall' : model['classification_report']['fake']['recall'], 'precision' : model['classification_report']['fake']['precision'], 'max_features' : result['max_features']}, ignore_index=True)\n",
    "        results = results.append({'model' : model['model'], 'type' : 'reliable', 'recall' : model['classification_report']['reliable']['recall'], 'precision' : model['classification_report']['reliable']['precision'], 'max_features' : result['max_features']}, ignore_index=True)"
   ]
  },
  {
   "cell_type": "code",
   "execution_count": 34,
   "metadata": {},
   "outputs": [],
   "source": [
    "results['max_features'] = results['max_features'].apply(lambda x: math.log10(x))"
   ]
  },
  {
   "cell_type": "code",
   "execution_count": 7,
   "metadata": {},
   "outputs": [],
   "source": [
    "line = alt.Chart(results[results['type'] == 'fake']).mark_line().encode(\n",
    "    x='max_features',\n",
    "    y='recall',\n",
    "    color='model:N'\n",
    ")\n",
    "\n",
    "\n",
    "dots = alt.Chart(results[results['type'] == 'fake']).mark_point().encode(\n",
    "    x='max_features',\n",
    "    y='recall',\n",
    "    color='model:N')\n",
    "\n",
    "chart = alt.layer(\n",
    "    line, dots\n",
    ").configure_legend(\n",
    "    titleAlign='left'\n",
    ")\n",
    "\n",
    "chart.save('output/all_fake_recall.png', webdriver='firefox')"
   ]
  },
  {
   "cell_type": "code",
   "execution_count": 8,
   "metadata": {},
   "outputs": [],
   "source": [
    "line = alt.Chart(results[results['type'] == 'reliable']).mark_line().encode(\n",
    "    x='max_features',\n",
    "    y='recall',\n",
    "    color='model:N'\n",
    ")\n",
    "\n",
    "dots = alt.Chart(results[results['type'] == 'reliable']).mark_point().encode(\n",
    "    x='max_features',\n",
    "    y='recall',\n",
    "    color='model:N')\n",
    "\n",
    "chart = alt.layer(\n",
    "    line, dots\n",
    ")\n",
    "\n",
    "chart.save('output/all_reliable_recall.png', webdriver='firefox')"
   ]
  },
  {
   "cell_type": "code",
   "execution_count": 9,
   "metadata": {},
   "outputs": [],
   "source": [
    "line = alt.Chart(results[results['type'] == 'fake']).mark_line().encode(\n",
    "    x='max_features',\n",
    "    y='precision',\n",
    "    color='model:N'\n",
    ")\n",
    "\n",
    "\n",
    "dots = alt.Chart(results[results['type'] == 'fake']).mark_point().encode(\n",
    "    x='max_features',\n",
    "    y='precision',\n",
    "    color='model:N')\n",
    "\n",
    "chart = alt.layer(\n",
    "    line, dots\n",
    ").configure_legend(\n",
    "    titleAlign='left'\n",
    ")\n",
    "\n",
    "chart.save('output/all_fake_precision.png', webdriver='firefox')"
   ]
  },
  {
   "cell_type": "code",
   "execution_count": 10,
   "metadata": {},
   "outputs": [],
   "source": [
    "line = alt.Chart(results[results['type'] == 'reliable']).mark_line().encode(\n",
    "    x='max_features',\n",
    "    y='precision',\n",
    "    color='model:N'\n",
    ")\n",
    "\n",
    "\n",
    "dots = alt.Chart(results[results['type'] == 'reliable']).mark_point().encode(\n",
    "    x='max_features',\n",
    "    y='precision',\n",
    "    color='model:N')\n",
    "\n",
    "chart = alt.layer(\n",
    "    line, dots\n",
    ").configure_legend(\n",
    "    titleAlign='left'\n",
    ")\n",
    "\n",
    "chart.save('output/all_reliable_precision.png', webdriver='firefox')"
   ]
  },
  {
   "cell_type": "markdown",
   "metadata": {},
   "source": [
    "# Analysis of the results with SMOTE"
   ]
  },
  {
   "cell_type": "code",
   "execution_count": 46,
   "metadata": {},
   "outputs": [],
   "source": [
    "results = pd.DataFrame(columns = ['model', 'type', 'recall', 'precision', 'max_features'])\n",
    "for result in collection.find({'infos' : 'Running on all models, using a max feature for TfidfVectorizer', 'smote.value' : True}, {'report' : 1, '_id' : 0, 'max_features' : 1}):\n",
    "    for model in result['report']:\n",
    "        results = results.append({'model' : model['model']+\"_SMOTE\", 'type' : 'fake', 'recall' : model['classification_report']['fake']['recall'], 'precision' : model['classification_report']['fake']['precision'], 'max_features' : result['max_features']}, ignore_index=True)\n",
    "        results = results.append({'model' : model['model']+\"_SMOTE\", 'type' : 'reliable', 'recall' : model['classification_report']['reliable']['recall'], 'precision' : model['classification_report']['reliable']['precision'], 'max_features' : result['max_features']}, ignore_index=True)\n",
    "results['max_features'] = results['max_features'].apply(lambda x: math.log10(x))"
   ]
  },
  {
   "cell_type": "code",
   "execution_count": 47,
   "metadata": {},
   "outputs": [],
   "source": [
    "line = alt.Chart(results[results['type'] == 'fake']).mark_line().encode(\n",
    "    x='max_features',\n",
    "    y='recall',\n",
    "    color='model:N'\n",
    ")\n",
    "\n",
    "\n",
    "dots = alt.Chart(results[results['type'] == 'fake']).mark_point().encode(\n",
    "    x='max_features',\n",
    "    y='recall',\n",
    "    color='model:N')\n",
    "\n",
    "chart = alt.layer(\n",
    "    line, dots\n",
    ").configure_legend(\n",
    "    titleAlign='left'\n",
    ")\n",
    "\n",
    "chart.save('output/all_fake_recall_SMOTE.png', webdriver='firefox')"
   ]
  },
  {
   "cell_type": "code",
   "execution_count": 48,
   "metadata": {},
   "outputs": [],
   "source": [
    "line = alt.Chart(results[results['type'] == 'reliable']).mark_line().encode(\n",
    "    x='max_features',\n",
    "    y='recall',\n",
    "    color='model:N'\n",
    ")\n",
    "\n",
    "dots = alt.Chart(results[results['type'] == 'reliable']).mark_point().encode(\n",
    "    x='max_features',\n",
    "    y='recall',\n",
    "    color='model:N')\n",
    "\n",
    "chart = alt.layer(\n",
    "    line, dots\n",
    ")\n",
    "\n",
    "chart.save('output/all_reliable_recall_SMOTE.png', webdriver='firefox')"
   ]
  },
  {
   "cell_type": "code",
   "execution_count": 49,
   "metadata": {},
   "outputs": [],
   "source": [
    "line = alt.Chart(results[results['type'] == 'fake']).mark_line().encode(\n",
    "    x='max_features',\n",
    "    y='precision',\n",
    "    color='model:N'\n",
    ")\n",
    "\n",
    "\n",
    "dots = alt.Chart(results[results['type'] == 'fake']).mark_point().encode(\n",
    "    x='max_features',\n",
    "    y='precision',\n",
    "    color='model:N')\n",
    "\n",
    "chart = alt.layer(\n",
    "    line, dots\n",
    ").configure_legend(\n",
    "    titleAlign='left'\n",
    ")\n",
    "\n",
    "chart.save('output/all_fake_precision_SMOTE.png', webdriver='firefox')"
   ]
  },
  {
   "cell_type": "code",
   "execution_count": 50,
   "metadata": {},
   "outputs": [],
   "source": [
    "line = alt.Chart(results[results['type'] == 'reliable']).mark_line().encode(\n",
    "    x='max_features',\n",
    "    y='precision',\n",
    "    color='model:N'\n",
    ")\n",
    "\n",
    "\n",
    "dots = alt.Chart(results[results['type'] == 'reliable']).mark_point().encode(\n",
    "    x='max_features',\n",
    "    y='precision',\n",
    "    color='model:N')\n",
    "\n",
    "chart = alt.layer(\n",
    "    line, dots\n",
    ").configure_legend(\n",
    "    titleAlign='left'\n",
    ")\n",
    "\n",
    "chart.save('output/all_reliable_precision_SMOTE.png', webdriver='firefox')"
   ]
  },
  {
   "cell_type": "code",
   "execution_count": null,
   "metadata": {},
   "outputs": [],
   "source": []
  }
 ],
 "metadata": {
  "kernelspec": {
   "display_name": "Python 3",
   "language": "python",
   "name": "python3"
  },
  "language_info": {
   "codemirror_mode": {
    "name": "ipython",
    "version": 3
   },
   "file_extension": ".py",
   "mimetype": "text/x-python",
   "name": "python",
   "nbconvert_exporter": "python",
   "pygments_lexer": "ipython3",
   "version": "3.7.3"
  }
 },
 "nbformat": 4,
 "nbformat_minor": 2
}
