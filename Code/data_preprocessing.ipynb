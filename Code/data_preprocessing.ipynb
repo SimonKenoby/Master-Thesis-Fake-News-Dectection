{
 "cells": [
  {
   "cell_type": "code",
   "execution_count": 1,
   "metadata": {},
   "outputs": [],
   "source": [
    "import pandas as pd\n",
    "import matplotlib.pyplot as plt\n",
    "import numpy as np\n",
    "import seaborn as sns\n",
    "import sys,os\n",
    "import json\n",
    "import random\n",
    "import csv\n",
    "import string\n",
    "import swifter\n",
    "import pymysql\n",
    "import nltk\n",
    "import ast\n",
    "from nltk import tokenize\n",
    "\n",
    "from gensim.parsing.preprocessing import preprocess_documents, preprocess_string, strip_tags, strip_punctuation, remove_stopwords, strip_numeric"
   ]
  },
  {
   "cell_type": "code",
   "execution_count": 2,
   "metadata": {},
   "outputs": [
    {
     "data": {
      "text/plain": [
       "100000000"
      ]
     },
     "execution_count": 2,
     "metadata": {},
     "output_type": "execute_result"
    }
   ],
   "source": [
    "csv.field_size_limit(100000000)\n",
    "csv.field_size_limit()"
   ]
  },
  {
   "cell_type": "code",
   "execution_count": 20,
   "metadata": {},
   "outputs": [
    {
     "name": "stderr",
     "output_type": "stream",
     "text": [
      "Pandas Apply: 100%|██████████| 200000/200000 [01:11<00:00, 2792.28it/s]\n",
      "Pandas Apply: 100%|██████████| 200000/200000 [01:04<00:00, 3108.27it/s]\n",
      "Pandas Apply: 100%|██████████| 200000/200000 [00:53<00:00, 3714.92it/s]\n",
      "Pandas Apply: 100%|██████████| 200000/200000 [01:01<00:00, 3263.91it/s]\n",
      "Pandas Apply: 100%|██████████| 200000/200000 [01:00<00:00, 3288.28it/s]\n",
      "Pandas Apply: 100%|██████████| 200000/200000 [00:59<00:00, 3358.86it/s]\n",
      "Pandas Apply: 100%|██████████| 200000/200000 [00:59<00:00, 3339.45it/s]\n",
      "Pandas Apply: 100%|██████████| 200000/200000 [00:58<00:00, 3429.01it/s]\n",
      "Pandas Apply: 100%|██████████| 200000/200000 [00:58<00:00, 3418.38it/s]\n",
      "Pandas Apply: 100%|██████████| 200000/200000 [01:02<00:00, 3180.76it/s]\n",
      "Pandas Apply: 100%|██████████| 200000/200000 [01:04<00:00, 3090.11it/s]\n",
      "Pandas Apply: 100%|██████████| 200000/200000 [01:06<00:00, 3018.68it/s]\n",
      "Pandas Apply: 100%|██████████| 200000/200000 [01:13<00:00, 2720.49it/s]\n",
      "Pandas Apply: 100%|██████████| 200000/200000 [01:24<00:00, 2380.42it/s]\n",
      "Pandas Apply: 100%|██████████| 7968/7968 [00:03<00:00, 1994.14it/s]\n"
     ]
    }
   ],
   "source": [
    "CUSTOM_FILTERS = [lambda x: x.lower(), strip_tags, strip_punctuation, strip_numeric, remove_stopwords]\n",
    "df = pd.DataFrame(columns=['id', 'type', 'title', 'preprocess'])\n",
    "df.to_csv(\"../Data/cleaned_data.csv\")\n",
    "csv_iter = pd.read_csv('../Data/filtered_data.csv', iterator=True, chunksize=200000, dtype = {'type' : str, 'content' : str, 'title' : str}, encoding = 'utf-8', error_bad_lines = False, engine='python')\n",
    "for single_df in csv_iter:\n",
    "    single_df['preprocess'] = single_df['content'].swifter.apply(lambda x: preprocess_string(x, CUSTOM_FILTERS))\n",
    "    with open('../Data/cleaned_data.csv', 'a') as f:\n",
    "        single_df.to_csv(f, header=False, columns=['id', 'type', 'title', 'preprocess'])"
   ]
  },
  {
   "cell_type": "code",
   "execution_count": 3,
   "metadata": {},
   "outputs": [
    {
     "name": "stderr",
     "output_type": "stream",
     "text": [
      "Pandas Apply: 100%|██████████| 50000/50000 [00:00<00:00, 630889.38it/s]\n"
     ]
    }
   ],
   "source": [
    "df = pd.DataFrame(columns=['id', 'length', 'type'])\n",
    "nlines = 50000\n",
    "total = 50001\n",
    "for i in np.arange(1, total, nlines):\n",
    "    preprocess_data = pd.read_csv('../Data/cleaned_data.csv', converters={'preprocess':ast.literal_eval}, skiprows=i, nrows = nlines, header=None, names=['id', 'type', 'title', 'preprocess'])\n",
    "    preprocess_data['length'] = preprocess_data['preprocess'].swifter.apply(lambda x: len(x))\n",
    "    df = pd.concat([df, preprocess_data[['id', 'length', 'type']]])"
   ]
  },
  {
   "cell_type": "code",
   "execution_count": 4,
   "metadata": {},
   "outputs": [],
   "source": [
    "length = np.array(df['length'].tolist())"
   ]
  },
  {
   "cell_type": "code",
   "execution_count": 5,
   "metadata": {},
   "outputs": [
    {
     "data": {
      "text/plain": [
       "662.0"
      ]
     },
     "execution_count": 5,
     "metadata": {},
     "output_type": "execute_result"
    }
   ],
   "source": [
    "np.percentile(length, 90)"
   ]
  },
  {
   "cell_type": "code",
   "execution_count": 93,
   "metadata": {},
   "outputs": [],
   "source": [
    "text = preprocess_data.iloc[4]['preprocess']"
   ]
  },
  {
   "cell_type": "code",
   "execution_count": 94,
   "metadata": {},
   "outputs": [
    {
     "data": {
      "text/plain": [
       "['photo',\n",
       " 'opinion',\n",
       " 'writer',\n",
       " 'age',\n",
       " 'trump',\n",
       " 'it’s',\n",
       " 'question',\n",
       " 'thought',\n",
       " 'i’d',\n",
       " 'share',\n",
       " 'days’',\n",
       " 'worth',\n",
       " 'false',\n",
       " 'starts',\n",
       " 'ledes',\n",
       " 'tuesday’s',\n",
       " 'news',\n",
       " 'north',\n",
       " 'korea',\n",
       " 'test',\n",
       " 'fired',\n",
       " 'ballistic',\n",
       " 'missile',\n",
       " 'hit',\n",
       " 'washington',\n",
       " 'd',\n",
       " 'c',\n",
       " 'started',\n",
       " 'drafting',\n",
       " 'piece',\n",
       " 'opened',\n",
       " 'follows',\n",
       " '“jim',\n",
       " 'mattis',\n",
       " 'familiar',\n",
       " 'napoleon’s',\n",
       " 'famous',\n",
       " 'orders',\n",
       " 'field',\n",
       " 'marshals',\n",
       " '‘if',\n",
       " 'start',\n",
       " 'vienna',\n",
       " '—',\n",
       " 'vienna',\n",
       " '’',\n",
       " 'commander',\n",
       " 'iraq',\n",
       " 'mattis',\n",
       " 'f',\n",
       " 'bombed',\n",
       " 'version',\n",
       " 'line',\n",
       " 'rage',\n",
       " 'bush',\n",
       " 'administration’s',\n",
       " 'abrupt',\n",
       " 'decision',\n",
       " 'pull',\n",
       " 'planned',\n",
       " 'assault',\n",
       " 'city',\n",
       " 'falluja',\n",
       " 'tough',\n",
       " 'talk',\n",
       " 'married',\n",
       " 'visible',\n",
       " 'hesitation',\n",
       " 'worst',\n",
       " 'approach',\n",
       " 'possible',\n",
       " 'enemy',\n",
       " '“but',\n",
       " 'that’s',\n",
       " 'good',\n",
       " 'description',\n",
       " 'trump',\n",
       " 'administration’s',\n",
       " 'policy',\n",
       " 'pyongyang',\n",
       " 'today',\n",
       " '…”',\n",
       " 'came',\n",
       " 'wednesday',\n",
       " 'morning',\n",
       " 'donald',\n",
       " 'trump',\n",
       " 'twitter',\n",
       " 'fever',\n",
       " 'reliving',\n",
       " 'madness',\n",
       " 'king',\n",
       " 'george',\n",
       " 'nuclear',\n",
       " 'age',\n",
       " 'sinister',\n",
       " 'work',\n",
       " 'different',\n",
       " 'column',\n",
       " 'order',\n",
       " '“if',\n",
       " 'want',\n",
       " 'understand',\n",
       " 'ways',\n",
       " 'donald',\n",
       " 'trump’s',\n",
       " 'presidency',\n",
       " 'systematically',\n",
       " 'corrupting',\n",
       " 'american',\n",
       " 'mind',\n",
       " 'book',\n",
       " 'recommendation',\n",
       " 'it’s',\n",
       " 'vladimir',\n",
       " 'putin’s',\n",
       " 'russia',\n",
       " '…”',\n",
       " 'advertisement',\n",
       " 'continue',\n",
       " 'reading',\n",
       " 'main',\n",
       " 'story',\n",
       " 'hour',\n",
       " 'filing',\n",
       " 'piece',\n",
       " 'appeared',\n",
       " 'thursday',\n",
       " 'reproaching',\n",
       " 'mentioning',\n",
       " 'trump’s',\n",
       " 'vile',\n",
       " 'retweets',\n",
       " 'british',\n",
       " 'far',\n",
       " 'right',\n",
       " 'extremist',\n",
       " 'scribbled',\n",
       " 'following',\n",
       " 'lede',\n",
       " 'column',\n",
       " '“donald',\n",
       " 'trump’s',\n",
       " 'apologists',\n",
       " 'simple',\n",
       " 'way',\n",
       " 'dealing',\n",
       " 'president’s',\n",
       " 'unhinged',\n",
       " 'twitter',\n",
       " 'stream',\n",
       " 'ignore',\n",
       " '‘watch',\n",
       " 'says',\n",
       " '’',\n",
       " 'tantric',\n",
       " 'mantra',\n",
       " 'hear',\n",
       " 'evil',\n",
       " 'right']"
      ]
     },
     "execution_count": 94,
     "metadata": {},
     "output_type": "execute_result"
    }
   ],
   "source": [
    "text"
   ]
  },
  {
   "cell_type": "code",
   "execution_count": 53,
   "metadata": {},
   "outputs": [],
   "source": [
    "import gensim.downloader as API"
   ]
  },
  {
   "cell_type": "code",
   "execution_count": 54,
   "metadata": {},
   "outputs": [],
   "source": [
    "model = API.load('word2vec-google-news-300')"
   ]
  },
  {
   "cell_type": "code",
   "execution_count": 113,
   "metadata": {},
   "outputs": [],
   "source": [
    "vocab = model.vocab.keys()\n",
    "def text2vec(x, max_length):\n",
    "    vectors= np.array([])\n",
    "    i = 0\n",
    "    for w in x:\n",
    "        i += 1\n",
    "        if w in vocab:\n",
    "            vectors = np.append(vectors, model[w], axis=0)\n",
    "        else:\n",
    "            vectors = np.append(vectors, np.zeros(300), axis=0)\n",
    "    if i < max_length:\n",
    "        for i in range(i, max_length):\n",
    "            vectors = np.append(vectors, np.zeros(300), axis=0)\n",
    "    elif i > max_length:\n",
    "        vectors = vectors[0:max_length]\n",
    "    return vectors.reshape(max_length, 300)"
   ]
  },
  {
   "cell_type": "code",
   "execution_count": 114,
   "metadata": {},
   "outputs": [],
   "source": [
    "words = text2vec(text, 557)"
   ]
  },
  {
   "cell_type": "code",
   "execution_count": 116,
   "metadata": {},
   "outputs": [
    {
     "data": {
      "text/plain": [
       "(557, 300)"
      ]
     },
     "execution_count": 116,
     "metadata": {},
     "output_type": "execute_result"
    }
   ],
   "source": [
    "words.shape"
   ]
  },
  {
   "cell_type": "code",
   "execution_count": null,
   "metadata": {},
   "outputs": [],
   "source": []
  }
 ],
 "metadata": {
  "kernelspec": {
   "display_name": "Python 3",
   "language": "python",
   "name": "python3"
  },
  "language_info": {
   "codemirror_mode": {
    "name": "ipython",
    "version": 3
   },
   "file_extension": ".py",
   "mimetype": "text/x-python",
   "name": "python",
   "nbconvert_exporter": "python",
   "pygments_lexer": "ipython3",
   "version": "3.7.0"
  }
 },
 "nbformat": 4,
 "nbformat_minor": 2
}
