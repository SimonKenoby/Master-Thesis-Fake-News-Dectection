{
 "cells": [
  {
   "cell_type": "code",
   "execution_count": 9,
   "metadata": {},
   "outputs": [],
   "source": [
    "from sklearn.tree import DecisionTreeClassifier\n",
    "from sklearn.model_selection import train_test_split, KFold\n",
    "from sklearn.metrics import classification_report, confusion_matrix\n",
    "from sklearn.feature_extraction.text import TfidfVectorizer, CountVectorizer\n",
    "\n",
    "\n",
    "from pymongo import MongoClient\n",
    "\n",
    "\n",
    "import numpy as np\n",
    "import os\n",
    "\n",
    "import datetime\n",
    "\n",
    "import sys\n",
    "sys.path.append('../..')\n",
    "\n",
    "import utils.dbUtils\n",
    "import utils.gensimUtils"
   ]
  },
  {
   "cell_type": "code",
   "execution_count": 4,
   "metadata": {},
   "outputs": [],
   "source": [
    "client = MongoClient('localhost', 27017)\n",
    "db = client.TFE\n",
    "collection = db.results"
   ]
  },
  {
   "cell_type": "code",
   "execution_count": 5,
   "metadata": {},
   "outputs": [],
   "source": [
    "corpus = utils.dbUtils.TokenizedIterator('news_cleaned', filters = {'type' : {'$in' : ['fake', 'reliable']}})"
   ]
  },
  {
   "cell_type": "code",
   "execution_count": 7,
   "metadata": {},
   "outputs": [],
   "source": [
    "y = np.array([x for x in corpus.iterTags()])"
   ]
  },
  {
   "cell_type": "code",
   "execution_count": null,
   "metadata": {},
   "outputs": [
    {
     "name": "stdout",
     "output_type": "stream",
     "text": [
      "Train and test set 0\n",
      "\t Fiting tf-idf\n",
      "\t fiting model\n"
     ]
    }
   ],
   "source": [
    "train_accuracy = []\n",
    "test_accuracy = []\n",
    "kf = KFold(n_splits=3, shuffle = True)\n",
    "i = 1\n",
    "for i, (train_index, test_index) in enumerate(kf.split(y)):\n",
    "    print('Train and test set {}'.format(i))\n",
    "    model = DecisionTreeClassifier()\n",
    "    vectorizer = TfidfVectorizer()\n",
    "    print('\\t Fiting tf-idf')\n",
    "    X_train = vectorizer.fit_transform([''.join(corpus[i]) for i in train_index])\n",
    "    X_test = vectorizer.transform([''.join(corpus[i]) for i in test_index])\n",
    "    y_train = y[train_index]\n",
    "    y_test = y[test_index]\n",
    "    print('\\t fiting model')\n",
    "    model.fit(X_train, y_train)\n",
    "    print('\\t Testing model')\n",
    "    train_accuracy.append(model.score(X_train, y_train))\n",
    "    test_accuracy.append(model.score(X_test, y_test))\n",
    "    #print(\"Training accuracy : {}\".format(model.score(X_train, y_train)))\n",
    "    #print(\"Test accuracy : {}\".format(model.score(X_test, y_test)))\n",
    "    #print(\"Classification report for test set\")\n",
    "    #print(classification_report(y_test, model.predict(X_test)))\n",
    "    crp = classification_report(y_test, model.predict(X_test), labels=['fake', 'reliable'], output_dict = True)\n",
    "    \n",
    "print('Train accuracy : {}'.format(np.mean(train_accuracy)))\n",
    "print('Test accuracy : {}'.format(np.mean(test_accuracy)))"
   ]
  },
  {
   "cell_type": "code",
   "execution_count": null,
   "metadata": {},
   "outputs": [],
   "source": []
  }
 ],
 "metadata": {
  "kernelspec": {
   "display_name": "Python 3",
   "language": "python",
   "name": "python3"
  },
  "language_info": {
   "codemirror_mode": {
    "name": "ipython",
    "version": 3
   },
   "file_extension": ".py",
   "mimetype": "text/x-python",
   "name": "python",
   "nbconvert_exporter": "python",
   "pygments_lexer": "ipython3",
   "version": "3.7.3"
  }
 },
 "nbformat": 4,
 "nbformat_minor": 2
}
