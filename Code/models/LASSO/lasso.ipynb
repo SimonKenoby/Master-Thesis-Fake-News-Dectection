{
 "cells": [
  {
   "cell_type": "code",
   "execution_count": 3,
   "metadata": {},
   "outputs": [],
   "source": [
    "import numpy as np\n",
    "import os\n",
    "\n",
    "import sklearn\n",
    "from sklearn.feature_extraction.text import TfidfVectorizer, CountVectorizer\n",
    "from sklearn.linear_model import Lasso\n",
    "from sklearn.model_selection import train_test_split, KFold\n",
    "from sklearn.metrics import classification_report, confusion_matrix\n",
    "\n",
    "from pymongo import MongoClient\n",
    "\n",
    "import datetime\n",
    "\n",
    "import sys\n",
    "sys.path.append('../..')\n",
    "\n",
    "import utils.dbUtils\n",
    "import utils.gensimUtils\n",
    "\n",
    "client = MongoClient('localhost', 27017)\n",
    "db = client.TFE\n",
    "collection = db.results"
   ]
  },
  {
   "cell_type": "code",
   "execution_count": 4,
   "metadata": {},
   "outputs": [
    {
     "name": "stdout",
     "output_type": "stream",
     "text": [
      "Creating corpus\n",
      "Creating labels\n"
     ]
    }
   ],
   "source": [
    "print('Creating corpus')\n",
    "corpus = utils.dbUtils.TokenizedIterator('news_cleaned', filters = {'type' : {'$in' : ['fake', 'reliable']}}, limit = 2000)\n",
    "print('Creating labels')\n",
    "y = np.array([x for x in corpus.iterTags()])"
   ]
  },
  {
   "cell_type": "code",
   "execution_count": 5,
   "metadata": {},
   "outputs": [
    {
     "name": "stdout",
     "output_type": "stream",
     "text": [
      "Train and test set 0\n",
      "\t Fiting tf-idf\n",
      "\t fiting model\n",
      "\t Testing model\n",
      "{'fake': {'precision': 0.9517684887459807, 'recall': 0.9966329966329966, 'f1-score': 0.9736842105263157, 'support': 594}, 'reliable': {'precision': 0.9555555555555556, 'recall': 0.589041095890411, 'f1-score': 0.728813559322034, 'support': 73}, 'micro avg': {'precision': 0.952023988005997, 'recall': 0.952023988005997, 'f1-score': 0.952023988005997, 'support': 667}, 'macro avg': {'precision': 0.9536620221507681, 'recall': 0.7928370462617038, 'f1-score': 0.8512488849241748, 'support': 667}, 'weighted avg': {'precision': 0.9521829653233406, 'recall': 0.952023988005997, 'f1-score': 0.9468842741876163, 'support': 667}}\n",
      "Train and test set 1\n",
      "\t Fiting tf-idf\n",
      "\t fiting model\n",
      "\t Testing model\n",
      "{'fake': {'precision': 0.9712, 'recall': 0.9967159277504105, 'f1-score': 0.9837925445705025, 'support': 609}, 'reliable': {'precision': 0.9523809523809523, 'recall': 0.6896551724137931, 'f1-score': 0.7999999999999999, 'support': 58}, 'micro avg': {'precision': 0.9700149925037481, 'recall': 0.9700149925037481, 'f1-score': 0.9700149925037481, 'support': 667}, 'macro avg': {'precision': 0.9617904761904761, 'recall': 0.8431855500821018, 'f1-score': 0.8918962722852513, 'support': 667}, 'weighted avg': {'precision': 0.9695635610766044, 'recall': 0.9700149925037481, 'f1-score': 0.9678105841730674, 'support': 667}}\n",
      "Train and test set 2\n",
      "\t Fiting tf-idf\n",
      "\t fiting model\n",
      "\t Testing model\n",
      "{'fake': {'precision': 0.9612903225806452, 'recall': 0.9966555183946488, 'f1-score': 0.9786535303776683, 'support': 598}, 'reliable': {'precision': 0.9565217391304348, 'recall': 0.6470588235294118, 'f1-score': 0.7719298245614036, 'support': 68}, 'micro avg': {'precision': 0.960960960960961, 'recall': 0.960960960960961, 'f1-score': 0.960960960960961, 'support': 666}, 'macro avg': {'precision': 0.9589060308555399, 'recall': 0.8218571709620304, 'f1-score': 0.875291677469536, 'support': 666}, 'weighted avg': {'precision': 0.9608034401863295, 'recall': 0.960960960960961, 'f1-score': 0.9575466054594912, 'support': 666}}\n"
     ]
    }
   ],
   "source": [
    "train_accuracy = []\n",
    "test_accuracy = []\n",
    "kf = KFold(n_splits=3, shuffle = True)\n",
    "i = 1\n",
    "for i, (train_index, test_index) in enumerate(kf.split(y)):\n",
    "    print('Train and test set {}'.format(i))\n",
    "    model = LinearSVC()\n",
    "    vectorizer = TfidfVectorizer()\n",
    "    print('\\t Fiting tf-idf')\n",
    "    X_train = vectorizer.fit_transform([' '.join(corpus[i]) for i in train_index])\n",
    "    X_test = vectorizer.transform([' '.join(corpus[i]) for i in test_index])\n",
    "    y_train = y[train_index]\n",
    "    y_test = y[test_index]\n",
    "    print('\\t fiting model')\n",
    "    model.fit(X_train, y_train)\n",
    "    print('\\t Testing model')\n",
    "    train_accuracy.append(model.score(X_train, y_train))\n",
    "    test_accuracy.append(model.score(X_test, y_test))\n",
    "    #print(\"Training accuracy : {}\".format(model.score(X_train, y_train)))\n",
    "    #print(\"Test accuracy : {}\".format(model.score(X_test, y_test)))\n",
    "    #print(\"Classification report for test set\")\n",
    "    #print(classification_report(y_test, model.predict(X_test)))\n",
    "    crp = classification_report(y_test, model.predict(X_test), labels=['fake', 'reliable'], output_dict = True)\n",
    "    print(crp)"
   ]
  },
  {
   "cell_type": "code",
   "execution_count": null,
   "metadata": {},
   "outputs": [],
   "source": []
  }
 ],
 "metadata": {
  "kernelspec": {
   "display_name": "Python 3",
   "language": "python",
   "name": "python3"
  },
  "language_info": {
   "codemirror_mode": {
    "name": "ipython",
    "version": 3
   },
   "file_extension": ".py",
   "mimetype": "text/x-python",
   "name": "python",
   "nbconvert_exporter": "python",
   "pygments_lexer": "ipython3",
   "version": "3.7.1"
  }
 },
 "nbformat": 4,
 "nbformat_minor": 2
}
