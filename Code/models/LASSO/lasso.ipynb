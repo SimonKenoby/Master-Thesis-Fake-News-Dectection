{
 "cells": [
  {
   "cell_type": "code",
   "execution_count": 1,
   "metadata": {},
   "outputs": [],
   "source": [
    "import numpy as np\n",
    "import argparse\n",
    "\n",
    "import sklearn\n",
    "from sklearn.feature_extraction.text import TfidfVectorizer, CountVectorizer\n",
    "from sklearn.linear_model import Lasso\n",
    "from sklearn.model_selection import train_test_split, KFold\n",
    "from sklearn.metrics import classification_report, confusion_matrix\n",
    "from joblib import dump, load\n",
    "\n",
    "import pandas as pd\n",
    "import json\n",
    "\n",
    "import datetime"
   ]
  },
  {
   "cell_type": "code",
   "execution_count": 2,
   "metadata": {},
   "outputs": [],
   "source": [
    "data = pd.read_json('../word2vec/train.json', lines=True)"
   ]
  },
  {
   "cell_type": "code",
   "execution_count": 3,
   "metadata": {},
   "outputs": [
    {
     "data": {
      "text/html": [
       "<div>\n",
       "<style scoped>\n",
       "    .dataframe tbody tr th:only-of-type {\n",
       "        vertical-align: middle;\n",
       "    }\n",
       "\n",
       "    .dataframe tbody tr th {\n",
       "        vertical-align: top;\n",
       "    }\n",
       "\n",
       "    .dataframe thead th {\n",
       "        text-align: right;\n",
       "    }\n",
       "</style>\n",
       "<table border=\"1\" class=\"dataframe\">\n",
       "  <thead>\n",
       "    <tr style=\"text-align: right;\">\n",
       "      <th></th>\n",
       "      <th>_id</th>\n",
       "      <th>tokenized_text</th>\n",
       "      <th>type</th>\n",
       "    </tr>\n",
       "  </thead>\n",
       "  <tbody>\n",
       "    <tr>\n",
       "      <th>0</th>\n",
       "      <td>52.0</td>\n",
       "      <td>[facebook, destinythegame, promo, image, desti...</td>\n",
       "      <td>reliable</td>\n",
       "    </tr>\n",
       "    <tr>\n",
       "      <th>1</th>\n",
       "      <td>73.0</td>\n",
       "      <td>[college, basketball, fan, knows, prevalent, u...</td>\n",
       "      <td>fake</td>\n",
       "    </tr>\n",
       "    <tr>\n",
       "      <th>2</th>\n",
       "      <td>89.0</td>\n",
       "      <td>[war, begun, media, attacked, trump, blasted, ...</td>\n",
       "      <td>fake</td>\n",
       "    </tr>\n",
       "    <tr>\n",
       "      <th>3</th>\n",
       "      <td>102.0</td>\n",
       "      <td>[screenshot, facebook, melina, abdullah, profe...</td>\n",
       "      <td>reliable</td>\n",
       "    </tr>\n",
       "    <tr>\n",
       "      <th>4</th>\n",
       "      <td>103.0</td>\n",
       "      <td>[photo, reuters, teams, north, south, korea, m...</td>\n",
       "      <td>reliable</td>\n",
       "    </tr>\n",
       "  </tbody>\n",
       "</table>\n",
       "</div>"
      ],
      "text/plain": [
       "     _id                                     tokenized_text      type\n",
       "0   52.0  [facebook, destinythegame, promo, image, desti...  reliable\n",
       "1   73.0  [college, basketball, fan, knows, prevalent, u...      fake\n",
       "2   89.0  [war, begun, media, attacked, trump, blasted, ...      fake\n",
       "3  102.0  [screenshot, facebook, melina, abdullah, profe...  reliable\n",
       "4  103.0  [photo, reuters, teams, north, south, korea, m...  reliable"
      ]
     },
     "execution_count": 3,
     "metadata": {},
     "output_type": "execute_result"
    }
   ],
   "source": [
    "data.head()"
   ]
  },
  {
   "cell_type": "code",
   "execution_count": 6,
   "metadata": {},
   "outputs": [],
   "source": [
    "train = data['tokenized_text'][0:64]"
   ]
  },
  {
   "cell_type": "code",
   "execution_count": 7,
   "metadata": {},
   "outputs": [
    {
     "data": {
      "text/plain": [
       "0    [facebook, destinythegame, promo, image, desti...\n",
       "1    [college, basketball, fan, knows, prevalent, u...\n",
       "2    [war, begun, media, attacked, trump, blasted, ...\n",
       "3    [screenshot, facebook, melina, abdullah, profe...\n",
       "4    [photo, reuters, teams, north, south, korea, m...\n",
       "Name: tokenized_text, dtype: object"
      ]
     },
     "execution_count": 7,
     "metadata": {},
     "output_type": "execute_result"
    }
   ],
   "source": [
    "train.head()"
   ]
  },
  {
   "cell_type": "code",
   "execution_count": 9,
   "metadata": {},
   "outputs": [],
   "source": [
    "train = np.array([\" \".join(line) for line in train])"
   ]
  },
  {
   "cell_type": "code",
   "execution_count": 14,
   "metadata": {},
   "outputs": [],
   "source": [
    "y = np.array(data['type'][0:64], dtype = str)"
   ]
  },
  {
   "cell_type": "code",
   "execution_count": 15,
   "metadata": {},
   "outputs": [
    {
     "data": {
      "text/plain": [
       "array(['reliable', 'fake', 'fake', 'reliable', 'reliable', 'reliable',\n",
       "       'reliable', 'reliable', 'reliable', 'reliable', 'reliable', 'fake',\n",
       "       'fake', 'fake', 'fake', 'fake', 'reliable', 'reliable', 'reliable',\n",
       "       'reliable', 'reliable', 'reliable', 'reliable', 'reliable',\n",
       "       'reliable', 'reliable', 'reliable', 'reliable', 'reliable',\n",
       "       'reliable', 'reliable', 'reliable', 'fake', 'fake', 'fake', 'fake',\n",
       "       'fake', 'reliable', 'reliable', 'reliable', 'reliable', 'reliable',\n",
       "       'reliable', 'reliable', 'reliable', 'reliable', 'reliable',\n",
       "       'reliable', 'reliable', 'reliable', 'reliable', 'reliable',\n",
       "       'reliable', 'reliable', 'reliable', 'reliable', 'reliable',\n",
       "       'reliable', 'reliable', 'reliable', 'fake', 'reliable', 'fake',\n",
       "       'fake'], dtype='<U8')"
      ]
     },
     "execution_count": 15,
     "metadata": {},
     "output_type": "execute_result"
    }
   ],
   "source": [
    "y"
   ]
  },
  {
   "cell_type": "code",
   "execution_count": null,
   "metadata": {},
   "outputs": [],
   "source": []
  }
 ],
 "metadata": {
  "kernelspec": {
   "display_name": "Python 3",
   "language": "python",
   "name": "python3"
  },
  "language_info": {
   "codemirror_mode": {
    "name": "ipython",
    "version": 3
   },
   "file_extension": ".py",
   "mimetype": "text/x-python",
   "name": "python",
   "nbconvert_exporter": "python",
   "pygments_lexer": "ipython3",
   "version": "3.7.3"
  }
 },
 "nbformat": 4,
 "nbformat_minor": 2
}
