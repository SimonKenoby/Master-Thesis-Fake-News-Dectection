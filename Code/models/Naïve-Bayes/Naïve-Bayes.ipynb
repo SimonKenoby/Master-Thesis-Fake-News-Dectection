{
 "cells": [
  {
   "cell_type": "markdown",
   "metadata": {},
   "source": [
    "# Differents Naïve-Bayes model training"
   ]
  },
  {
   "cell_type": "code",
   "execution_count": 1,
   "metadata": {},
   "outputs": [],
   "source": [
    "import numpy as np\n",
    "import os\n",
    "import json\n",
    "import pandas as pd\n",
    "\n",
    "import sklearn\n",
    "from sklearn.feature_extraction.text import TfidfVectorizer, CountVectorizer\n",
    "from sklearn.naive_bayes import MultinomialNB\n",
    "from sklearn.model_selection import train_test_split, KFold\n",
    "from sklearn.metrics import classification_report, confusion_matrix\n",
    "\n",
    "from pymongo import MongoClient"
   ]
  },
  {
   "cell_type": "code",
   "execution_count": 2,
   "metadata": {},
   "outputs": [],
   "source": [
    "client = MongoClient('localhost', 27017)\n",
    "db = client.TFE\n",
    "collection = db.news"
   ]
  },
  {
   "cell_type": "code",
   "execution_count": 3,
   "metadata": {},
   "outputs": [],
   "source": [
    "news = []\n",
    "for new in collection.find({'type' : {'$in' : ['fake', 'reliable']}}):\n",
    "    news.append((new['content'], new['type']))\n",
    "tags = [x[1] for x in news]\n",
    "texts = [x[0] for x in news]"
   ]
  },
  {
   "cell_type": "code",
   "execution_count": 7,
   "metadata": {},
   "outputs": [],
   "source": [
    "#vectorizer = TfidfVectorizer()\n",
    "#X = vectorizer.fit_transform(texts)\n",
    "y = np.array(tags)"
   ]
  },
  {
   "cell_type": "code",
   "execution_count": 11,
   "metadata": {},
   "outputs": [
    {
     "name": "stdout",
     "output_type": "stream",
     "text": [
      "Train accuracy : 0.8981404616526975\n",
      "Test accuracy : 0.89230703483496\n",
      "[0.8921489126428308, 0.8924940036432207, 0.8922781882188283]\n"
     ]
    }
   ],
   "source": [
    "model = MultinomialNB()\n",
    "\n",
    "train_accuracy = []\n",
    "test_accuracy = []\n",
    "kf = KFold(n_splits=3, shuffle = True)\n",
    "for train_index, test_index in kf.split(y):  \n",
    "    vectorizer = TfidfVectorizer()\n",
    "    X_train = vectorizer.fit_transform([texts[i] for i in train_index])\n",
    "    X_test = vectorizer.transform([texts[i] for i in test_index])\n",
    "    y_train = y[train_index]\n",
    "    y_test = y[test_index]\n",
    "    model.fit(X_train, y_train)\n",
    "    train_accuracy.append(model.score(X_train, y_train))\n",
    "    test_accuracy.append(model.score(X_test, y_test))\n",
    "    #print(\"Training accuracy : {}\".format(model.score(X_train, y_train)))\n",
    "    #print(\"Test accuracy : {}\".format(model.score(X_test, y_test)))\n",
    "    #print(\"Classification report for test set\")\n",
    "    #print(classification_report(y_test, model.predict(X_test)))\n",
    "print(\"Train accuracy : {}\".format(np.mean(train_accuracy)))\n",
    "print(\"Test accuracy : {}\".format(np.mean(test_accuracy)))\n",
    "print(test_accuracy)"
   ]
  },
  {
   "cell_type": "code",
   "execution_count": 9,
   "metadata": {},
   "outputs": [],
   "source": [
    "fake_directories = ['../../../Data/FakeNewsNet-master/Data/BuzzFeed/FakeNewsContent', '../../../Data/FakeNewsNet-master/Data/PolitiFact/FakeNewsContent']\n",
    "real_directories = ['../../../Data/FakeNewsNet-master/Data/BuzzFeed/RealNewsContent', '../../../Data/FakeNewsNet-master/Data/PolitiFact/RealNewsContent']\n",
    "\n",
    "fake_files_list = []\n",
    "for fake_dir in fake_directories:\n",
    "    for root, directory, files in os.walk(fake_dir):\n",
    "        for name in files:\n",
    "            fake_files_list.append(os.path.join(root, name))\n",
    "real_files_list = []\n",
    "for real_dir in real_directories:\n",
    "    for root, directory, files in os.walk(real_dir):\n",
    "        for name in files:\n",
    "            real_files_list.append(os.path.join(root, name))\n",
    "# Open the first file in order to retreive dictionary keys\n",
    "with open(fake_files_list[0]) as f:\n",
    "    j = json.loads(f.read())\n",
    "keys = j.keys()\n",
    "data = pd.DataFrame(columns=keys)\n",
    "for file_name in fake_files_list:\n",
    "    with open(file_name) as f:\n",
    "        j = json.loads(f.read())\n",
    "        j['type'] = 'fake'\n",
    "        data = data.append(j, ignore_index=True)\n",
    "for file_name in real_files_list:\n",
    "    with open(file_name) as f:\n",
    "        j = json.loads(f.read())\n",
    "        j['type'] = 'reliable'\n",
    "        data = data.append(j, ignore_index=True)     "
   ]
  },
  {
   "cell_type": "code",
   "execution_count": 10,
   "metadata": {},
   "outputs": [],
   "source": [
    "new_text = data['text'].values\n",
    "newy = data['type'].values"
   ]
  },
  {
   "cell_type": "code",
   "execution_count": 11,
   "metadata": {},
   "outputs": [
    {
     "name": "stdout",
     "output_type": "stream",
     "text": [
      "422\n",
      "422\n"
     ]
    }
   ],
   "source": [
    "print(len(new_text))\n",
    "print(len(newy))"
   ]
  },
  {
   "cell_type": "code",
   "execution_count": null,
   "metadata": {},
   "outputs": [],
   "source": [
    "X_test = None\n",
    "X_train = None"
   ]
  },
  {
   "cell_type": "code",
   "execution_count": 12,
   "metadata": {},
   "outputs": [],
   "source": [
    "vectorizer = TfidfVectorizer()\n",
    "X = vectorizer.fit_transform(texts)"
   ]
  },
  {
   "cell_type": "code",
   "execution_count": 13,
   "metadata": {},
   "outputs": [
    {
     "data": {
      "text/plain": [
       "MultinomialNB(alpha=1.0, class_prior=None, fit_prior=True)"
      ]
     },
     "execution_count": 13,
     "metadata": {},
     "output_type": "execute_result"
    }
   ],
   "source": [
    "model = MultinomialNB()\n",
    "model.fit(X, y)"
   ]
  },
  {
   "cell_type": "code",
   "execution_count": 14,
   "metadata": {},
   "outputs": [
    {
     "name": "stdout",
     "output_type": "stream",
     "text": [
      "Test accuracy : 0.6113744075829384\n"
     ]
    }
   ],
   "source": [
    "X_test = vectorizer.transform(new_text)\n",
    "print(\"Test accuracy : {}\".format(model.score(X_test, newy)))"
   ]
  },
  {
   "cell_type": "code",
   "execution_count": 15,
   "metadata": {},
   "outputs": [
    {
     "data": {
      "text/plain": [
       "{'fake': {'precision': 0.7526881720430108,\n",
       "  'recall': 0.33175355450236965,\n",
       "  'f1-score': 0.46052631578947373,\n",
       "  'support': 211},\n",
       " 'reliable': {'precision': 0.5714285714285714,\n",
       "  'recall': 0.8909952606635071,\n",
       "  'f1-score': 0.6962962962962962,\n",
       "  'support': 211},\n",
       " 'micro avg': {'precision': 0.6113744075829384,\n",
       "  'recall': 0.6113744075829384,\n",
       "  'f1-score': 0.6113744075829384,\n",
       "  'support': 422},\n",
       " 'macro avg': {'precision': 0.6620583717357911,\n",
       "  'recall': 0.6113744075829384,\n",
       "  'f1-score': 0.5784113060428849,\n",
       "  'support': 422},\n",
       " 'weighted avg': {'precision': 0.6620583717357911,\n",
       "  'recall': 0.6113744075829384,\n",
       "  'f1-score': 0.578411306042885,\n",
       "  'support': 422}}"
      ]
     },
     "execution_count": 15,
     "metadata": {},
     "output_type": "execute_result"
    }
   ],
   "source": [
    "classification_report(newy, model.predict(X_test), labels=['fake', 'reliable'], output_dict = True)"
   ]
  },
  {
   "cell_type": "code",
   "execution_count": 16,
   "metadata": {},
   "outputs": [
    {
     "data": {
      "text/plain": [
       "array([[188,  23],\n",
       "       [141,  70]])"
      ]
     },
     "execution_count": 16,
     "metadata": {},
     "output_type": "execute_result"
    }
   ],
   "source": [
    "confusion_matrix(newy, model.predict(X_test), labels=['reliable', 'fake'])"
   ]
  },
  {
   "cell_type": "code",
   "execution_count": null,
   "metadata": {},
   "outputs": [],
   "source": []
  }
 ],
 "metadata": {
  "kernelspec": {
   "display_name": "Python 3",
   "language": "python",
   "name": "python3"
  },
  "language_info": {
   "codemirror_mode": {
    "name": "ipython",
    "version": 3
   },
   "file_extension": ".py",
   "mimetype": "text/x-python",
   "name": "python",
   "nbconvert_exporter": "python",
   "pygments_lexer": "ipython3",
   "version": "3.7.3"
  }
 },
 "nbformat": 4,
 "nbformat_minor": 2
}
