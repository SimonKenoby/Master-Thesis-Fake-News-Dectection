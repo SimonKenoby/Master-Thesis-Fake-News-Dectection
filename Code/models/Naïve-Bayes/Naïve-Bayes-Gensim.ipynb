{
 "cells": [
  {
   "cell_type": "markdown",
   "metadata": {},
   "source": [
    "# Naive-Bayes using gensim"
   ]
  },
  {
   "cell_type": "code",
   "execution_count": 6,
   "metadata": {},
   "outputs": [],
   "source": [
    "import numpy as np\n",
    "import os\n",
    "import json\n",
    "import pandas as pd\n",
    "\n",
    "import sys\n",
    "sys.path.append('../..')\n",
    "\n",
    "import utils.dbUtils\n",
    "import utils.gensimUtils\n",
    "\n",
    "import sklearn\n",
    "from sklearn.naive_bayes import MultinomialNB\n",
    "from sklearn.model_selection import train_test_split, KFold\n",
    "from sklearn.metrics import classification_report, confusion_matrix, recall_score\n",
    "from sklearn.feature_extraction.text import TfidfVectorizer\n",
    "\n",
    "\n",
    "from pymongo import MongoClient\n",
    "from gensim.models import TfidfModel\n",
    "from gensim.corpora import Dictionary"
   ]
  },
  {
   "cell_type": "markdown",
   "metadata": {},
   "source": [
    "## Training on the full corpus"
   ]
  },
  {
   "cell_type": "code",
   "execution_count": 37,
   "metadata": {},
   "outputs": [],
   "source": [
    "corpus = utils.dbUtils.TokenizedIterator('news_copy', filters = {'type' : {'$in' : ['fake', 'reliable']}})"
   ]
  },
  {
   "cell_type": "code",
   "execution_count": 38,
   "metadata": {},
   "outputs": [],
   "source": [
    "#vectorizer = TfidfVectorizer()\n",
    "#X = vectorizer.fit_transform([''.join(x) for x in corpus])\n",
    "y = np.array([x for x in corpus.iterTags()])"
   ]
  },
  {
   "cell_type": "code",
   "execution_count": 40,
   "metadata": {},
   "outputs": [
    {
     "name": "stdout",
     "output_type": "stream",
     "text": [
      "Train accuracy : 0.910612013212434\n",
      "Test accuracy : 0.9056206386979625\n",
      "[0.9053369706121169, 0.90554708756535, 0.905760765822875, 0.9051945184404336, 0.9057287140842463, 0.9057497462561656, 0.9057996046938158, 0.9052155487099129, 0.9061592977082925, 0.9057141330864154]\n"
     ]
    }
   ],
   "source": [
    "model = MultinomialNB()\n",
    "\n",
    "train_accuracy = []\n",
    "test_accuracy = []\n",
    "kf = KFold(n_splits=10, shuffle = True)\n",
    "for train_index, test_index in kf.split(y):\n",
    "    vectorizer = TfidfVectorizer()\n",
    "    X_train = vectorizer.fit_transform([' '.join(corpus[i]) for i in train_index])\n",
    "    X_test = vectorizer.transform([' '.join(corpus[i]) for i in test_index])\n",
    "    y_train = y[train_index]\n",
    "    y_test = y[test_index]\n",
    "    model.fit(X_train, y_train)\n",
    "    train_accuracy.append(model.score(X_train, y_train))\n",
    "    test_accuracy.append(model.score(X_test, y_test))\n",
    "    #print(\"Training accuracy : {}\".format(model.score(X_train, y_train)))\n",
    "    #print(\"Test accuracy : {}\".format(model.score(X_test, y_test)))\n",
    "    #print(\"Classification report for test set\")\n",
    "    #print(classification_report(y_test, model.predict(X_test)))\n",
    "print(\"Train accuracy : {}\".format(np.mean(train_accuracy)))\n",
    "print(\"Test accuracy : {}\".format(np.mean(test_accuracy)))\n",
    "print(test_accuracy)"
   ]
  },
  {
   "cell_type": "markdown",
   "metadata": {},
   "source": [
    "## Training on the corpus that does not contains the news from nytimes.com and beforeitsnews.com"
   ]
  },
  {
   "cell_type": "code",
   "execution_count": 4,
   "metadata": {},
   "outputs": [],
   "source": [
    "corpus = utils.dbUtils.TokenizedIterator('news_copy', filters = {'type' : {'$in' : ['fake', 'reliable']}, 'domain' : {'$nin' : ['nytimes.com', 'beforeitsnews.com']}})\n",
    "y = np.array([x for x in corpus.iterTags()])"
   ]
  },
  {
   "cell_type": "code",
   "execution_count": null,
   "metadata": {},
   "outputs": [],
   "source": [
    "model = MultinomialNB()\n",
    "\n",
    "train_accuracy = []\n",
    "test_accuracy = []\n",
    "train_recall = []\n",
    "test_recall = []\n",
    "kf = KFold(n_splits=10, shuffle = True)\n",
    "for train_index, test_index in kf.split(y):\n",
    "    vectorizer = TfidfVectorizer()\n",
    "    X_train = vectorizer.fit_transform([' '.join(corpus[i]) for i in train_index])\n",
    "    X_test = vectorizer.transform([' '.join(corpus[i]) for i in test_index])\n",
    "    y_train = y[train_index]\n",
    "    y_test = y[test_index]\n",
    "    model.fit(X_train, y_train)\n",
    "    train_accuracy.append(model.score(X_train, y_train))\n",
    "    test_accuracy.append(model.score(X_test, y_test))\n",
    "    train_recall.append(recall_score(y_train, model.predict(X_train), pos_label = 'fake'))\n",
    "    test_recall.append(recall_score(y_test, model.predict(X_test), pos_label = 'fake'))\n",
    "    #print(\"Training accuracy : {}\".format(model.score(X_train, y_train)))\n",
    "    #print(\"Test accuracy : {}\".format(model.score(X_test, y_test)))\n",
    "    #print(\"Classification report for test set\")\n",
    "    #print(classification_report(y_test, model.predict(X_test)))\n",
    "print(\"Train accuracy : {}\".format(np.mean(train_accuracy)))\n",
    "print(\"Test accuracy : {}\".format(np.mean(test_accuracy)))\n",
    "print(\"Train recall : {}\".format(np.mean(train_recall)))\n",
    "print(\"Test recall : {}\".format(np.mean(test_recall)))\n",
    "print(test_accuracy)\n",
    "print(train_recall)\n",
    "print(test_recall)"
   ]
  },
  {
   "cell_type": "code",
   "execution_count": null,
   "metadata": {},
   "outputs": [],
   "source": []
  }
 ],
 "metadata": {
  "kernelspec": {
   "display_name": "Python 3",
   "language": "python",
   "name": "python3"
  },
  "language_info": {
   "codemirror_mode": {
    "name": "ipython",
    "version": 3
   },
   "file_extension": ".py",
   "mimetype": "text/x-python",
   "name": "python",
   "nbconvert_exporter": "python",
   "pygments_lexer": "ipython3",
   "version": "3.7.2"
  }
 },
 "nbformat": 4,
 "nbformat_minor": 2
}
