{
 "cells": [
  {
   "cell_type": "code",
   "execution_count": 1,
   "metadata": {},
   "outputs": [],
   "source": [
    "import pandas as pd\n",
    "import seaborn as sns\n",
    "import numpy as np\n",
    "from pymongo import MongoClient\n",
    "import matplotlib.pyplot as plt\n",
    "from sklearn.metrics import classification_report, confusion_matrix\n",
    "from tqdm import tqdm"
   ]
  },
  {
   "cell_type": "code",
   "execution_count": 2,
   "metadata": {},
   "outputs": [],
   "source": [
    "client = MongoClient('localhost', 27017)\n",
    "db = client.TFE\n",
    "collection = db.results"
   ]
  },
  {
   "cell_type": "code",
   "execution_count": 3,
   "metadata": {},
   "outputs": [],
   "source": [
    "def generateFromCM(cm):\n",
    "    tn, fp, fn, tp = cm\n",
    "    y_true = ['reliable' for i in range(0, tn + fp)]\n",
    "    y_pred = ['reliable' for i in range(0, tn)]+['fake' for i in range(0, fp)]\n",
    "    y_true = y_true + ['fake' for i in range(0, fn + tp)]\n",
    "    y_pred = y_pred + ['reliable' for i in range(0, fn)] + ['fake' for i in range(0, tp)]\n",
    "    return y_true, y_pred"
   ]
  },
  {
   "cell_type": "code",
   "execution_count": 4,
   "metadata": {},
   "outputs": [
    {
     "name": "stderr",
     "output_type": "stream",
     "text": [
      "  1%|          | 3/504 [00:45<2:06:55, 15.20s/it]/home/simon/anaconda3/lib/python3.7/site-packages/sklearn/metrics/classification.py:1437: UndefinedMetricWarning: Precision and F-score are ill-defined and being set to 0.0 in labels with no predicted samples.\n",
      "  'precision', 'predicted', average, warn_for)\n",
      "100%|██████████| 504/504 [2:13:10<00:00, 15.21s/it]\n"
     ]
    }
   ],
   "source": [
    "cursor = collection.find({'model' : 'Attention LSTM 3.1', 'finish' : True, 'params' : {'$exists' : True}}, no_cursor_timeout=True)\n",
    "pbar = tqdm(total=504)\n",
    "for i, res in enumerate(cursor):\n",
    "    for i, result in enumerate(res['result']):\n",
    "        epoch = result['epoch']\n",
    "        cm = result['valid']['Confusion Matrix']\n",
    "        y_true, y_pred = generateFromCM(cm)\n",
    "        clr = classification_report(y_true, y_pred, output_dict = True)\n",
    "        collection.update_one({'experiment_id' : res['experiment_id'], 'result.epoch' : epoch}, {\"$set\" : {'result.$.valid.clr' : clr}})\n",
    "        \n",
    "        cm = result['train']['Confusion Matrix']\n",
    "        y_true, y_pred = generateFromCM(cm)\n",
    "        clr = classification_report(y_true, y_pred, output_dict = True)\n",
    "        collection.update_one({'experiment_id' : res['experiment_id'], 'result.epoch' : epoch}, {\"$set\" : {'result.$.train.clr' : clr}})\n",
    "    pbar.update(1)\n",
    "pbar.close()\n",
    "cursor.close()"
   ]
  },
  {
   "cell_type": "code",
   "execution_count": 5,
   "metadata": {},
   "outputs": [
    {
     "data": {
      "text/plain": [
       "{'fake': {'precision': 0.42140151515151514,\n",
       "  'recall': 0.1983065953654189,\n",
       "  'f1-score': 0.2696969696969697,\n",
       "  'support': 4488},\n",
       " 'reliable': {'precision': 0.5573326771653543,\n",
       "  'recall': 0.7875521557719054,\n",
       "  'f1-score': 0.6527377521613833,\n",
       "  'support': 5752},\n",
       " 'accuracy': 0.529296875,\n",
       " 'macro avg': {'precision': 0.4893670961584347,\n",
       "  'recall': 0.4929293755686621,\n",
       "  'f1-score': 0.46121736092917653,\n",
       "  'support': 10240},\n",
       " 'weighted avg': {'precision': 0.4977565975639763,\n",
       "  'recall': 0.529296875,\n",
       "  'f1-score': 0.484858159221902,\n",
       "  'support': 10240}}"
      ]
     },
     "execution_count": 5,
     "metadata": {},
     "output_type": "execute_result"
    }
   ],
   "source": [
    "clr"
   ]
  },
  {
   "cell_type": "code",
   "execution_count": null,
   "metadata": {},
   "outputs": [],
   "source": []
  }
 ],
 "metadata": {
  "kernelspec": {
   "display_name": "Python 3",
   "language": "python",
   "name": "python3"
  },
  "language_info": {
   "codemirror_mode": {
    "name": "ipython",
    "version": 3
   },
   "file_extension": ".py",
   "mimetype": "text/x-python",
   "name": "python",
   "nbconvert_exporter": "python",
   "pygments_lexer": "ipython3",
   "version": "3.7.3"
  }
 },
 "nbformat": 4,
 "nbformat_minor": 2
}
