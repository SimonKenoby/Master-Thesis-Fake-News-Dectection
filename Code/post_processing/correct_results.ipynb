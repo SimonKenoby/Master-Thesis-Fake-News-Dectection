{
 "cells": [
  {
   "cell_type": "code",
   "execution_count": 1,
   "metadata": {},
   "outputs": [],
   "source": [
    "import pandas as pd\n",
    "import seaborn as sns\n",
    "import numpy as np\n",
    "from pymongo import MongoClient\n",
    "import matplotlib.pyplot as plt\n",
    "from sklearn.metrics import classification_report, confusion_matrix\n",
    "from tqdm import tqdm\n",
    "import pandas as pd"
   ]
  },
  {
   "cell_type": "code",
   "execution_count": 2,
   "metadata": {},
   "outputs": [],
   "source": [
    "client = MongoClient('localhost', 27017)\n",
    "db = client.TFE\n",
    "collection = db.TESTS"
   ]
  },
  {
   "cell_type": "code",
   "execution_count": 3,
   "metadata": {},
   "outputs": [],
   "source": [
    "def generateFromCM(cm):\n",
    "    tn, fp, fn, tp = cm\n",
    "    y_true = ['reliable' for i in range(0, tn + fp)]\n",
    "    y_pred = ['reliable' for i in range(0, tn)]+['fake' for i in range(0, fp)]\n",
    "    y_true = y_true + ['fake' for i in range(0, fn + tp)]\n",
    "    y_pred = y_pred + ['reliable' for i in range(0, fn)] + ['fake' for i in range(0, tp)]\n",
    "    return y_true, y_pred"
   ]
  },
  {
   "cell_type": "code",
   "execution_count": 4,
   "metadata": {},
   "outputs": [
    {
     "name": "stderr",
     "output_type": "stream",
     "text": [
      "100%|██████████| 1/1 [01:36<00:00, 96.52s/it]\n"
     ]
    }
   ],
   "source": [
    "cursor = collection.find({'experiment_id' : 1, 'finish' : True}, no_cursor_timeout=True)\n",
    "pbar = tqdm(total=1)\n",
    "for i, res in enumerate(cursor):\n",
    "    for i, result in enumerate(res['result']):\n",
    "        epoch = result['epoch']\n",
    "        cm = result['valid']['Confusion Matrix']\n",
    "        y_true, y_pred = generateFromCM(cm)\n",
    "        clr = classification_report(y_true, y_pred, output_dict = True)\n",
    "        collection.update_one({'experiment_id' : res['experiment_id'], 'result.epoch' : epoch}, {\"$set\" : {'result.$.valid.clr' : clr}})\n",
    "        \n",
    "        cm = result['train']['Confusion Matrix']\n",
    "        y_true, y_pred = generateFromCM(cm)\n",
    "        clr = classification_report(y_true, y_pred, output_dict = True)\n",
    "        collection.update_one({'experiment_id' : res['experiment_id'], 'result.epoch' : epoch}, {\"$set\" : {'result.$.train.clr' : clr}})\n",
    "    pbar.update(1)\n",
    "pbar.close()\n",
    "cursor.close()"
   ]
  },
  {
   "cell_type": "code",
   "execution_count": 8,
   "metadata": {},
   "outputs": [
    {
     "data": {
      "text/plain": [
       "{'fake': {'precision': 0.9239253483092063,\n",
       "  'recall': 0.9339965220949263,\n",
       "  'f1-score': 0.9289336389677527,\n",
       "  'support': 156416},\n",
       " 'reliable': {'precision': 0.9332691275992011,\n",
       "  'recall': 0.923096102700491,\n",
       "  'f1-score': 0.9281547406686016,\n",
       "  'support': 156416},\n",
       " 'accuracy': 0.9285463123977087,\n",
       " 'macro avg': {'precision': 0.9285972379542037,\n",
       "  'recall': 0.9285463123977087,\n",
       "  'f1-score': 0.9285441898181772,\n",
       "  'support': 312832},\n",
       " 'weighted avg': {'precision': 0.9285972379542037,\n",
       "  'recall': 0.9285463123977087,\n",
       "  'f1-score': 0.9285441898181771,\n",
       "  'support': 312832}}"
      ]
     },
     "execution_count": 8,
     "metadata": {},
     "output_type": "execute_result"
    }
   ],
   "source": [
    "clr"
   ]
  },
  {
   "cell_type": "code",
   "execution_count": 10,
   "metadata": {},
   "outputs": [],
   "source": [
    "y_true, y_pred = generateFromCM([1032,  396,  590,  516])"
   ]
  },
  {
   "cell_type": "code",
   "execution_count": 15,
   "metadata": {},
   "outputs": [],
   "source": [
    "clr = classification_report(y_true, y_pred, output_dict = True)"
   ]
  },
  {
   "cell_type": "code",
   "execution_count": 16,
   "metadata": {},
   "outputs": [],
   "source": [
    "pd.DataFrame(clr).to_latex('out.tex')"
   ]
  },
  {
   "cell_type": "code",
   "execution_count": 5,
   "metadata": {},
   "outputs": [],
   "source": [
    "y_true, y_pred = generateFromCM([914, 514, 592, 514])\n",
    "clr = classification_report(y_true, y_pred, output_dict = True)\n",
    "pd.DataFrame(clr).to_latex('out.tex')"
   ]
  },
  {
   "cell_type": "code",
   "execution_count": 7,
   "metadata": {},
   "outputs": [
    {
     "data": {
      "text/html": [
       "<div>\n",
       "<style scoped>\n",
       "    .dataframe tbody tr th:only-of-type {\n",
       "        vertical-align: middle;\n",
       "    }\n",
       "\n",
       "    .dataframe tbody tr th {\n",
       "        vertical-align: top;\n",
       "    }\n",
       "\n",
       "    .dataframe thead th {\n",
       "        text-align: right;\n",
       "    }\n",
       "</style>\n",
       "<table border=\"1\" class=\"dataframe\">\n",
       "  <thead>\n",
       "    <tr style=\"text-align: right;\">\n",
       "      <th></th>\n",
       "      <th>fake</th>\n",
       "      <th>reliable</th>\n",
       "      <th>accuracy</th>\n",
       "      <th>macro avg</th>\n",
       "      <th>weighted avg</th>\n",
       "    </tr>\n",
       "  </thead>\n",
       "  <tbody>\n",
       "    <tr>\n",
       "      <th>f1-score</th>\n",
       "      <td>0.481724</td>\n",
       "      <td>0.623040</td>\n",
       "      <td>0.563536</td>\n",
       "      <td>0.552382</td>\n",
       "      <td>0.561361</td>\n",
       "    </tr>\n",
       "    <tr>\n",
       "      <th>precision</th>\n",
       "      <td>0.500000</td>\n",
       "      <td>0.606906</td>\n",
       "      <td>0.563536</td>\n",
       "      <td>0.553453</td>\n",
       "      <td>0.560245</td>\n",
       "    </tr>\n",
       "    <tr>\n",
       "      <th>recall</th>\n",
       "      <td>0.464738</td>\n",
       "      <td>0.640056</td>\n",
       "      <td>0.563536</td>\n",
       "      <td>0.552397</td>\n",
       "      <td>0.563536</td>\n",
       "    </tr>\n",
       "    <tr>\n",
       "      <th>support</th>\n",
       "      <td>1106.000000</td>\n",
       "      <td>1428.000000</td>\n",
       "      <td>0.563536</td>\n",
       "      <td>2534.000000</td>\n",
       "      <td>2534.000000</td>\n",
       "    </tr>\n",
       "  </tbody>\n",
       "</table>\n",
       "</div>"
      ],
      "text/plain": [
       "                  fake     reliable  accuracy    macro avg  weighted avg\n",
       "f1-score      0.481724     0.623040  0.563536     0.552382      0.561361\n",
       "precision     0.500000     0.606906  0.563536     0.553453      0.560245\n",
       "recall        0.464738     0.640056  0.563536     0.552397      0.563536\n",
       "support    1106.000000  1428.000000  0.563536  2534.000000   2534.000000"
      ]
     },
     "execution_count": 7,
     "metadata": {},
     "output_type": "execute_result"
    }
   ],
   "source": [
    "pd.DataFrame(clr)"
   ]
  },
  {
   "cell_type": "code",
   "execution_count": 8,
   "metadata": {},
   "outputs": [],
   "source": [
    "y_true, y_pred = generateFromCM([892, 536, 578, 528])\n",
    "clr = classification_report(y_true, y_pred, output_dict = True)\n",
    "pd.DataFrame(clr).to_latex('out.tex')"
   ]
  },
  {
   "cell_type": "code",
   "execution_count": 9,
   "metadata": {},
   "outputs": [
    {
     "data": {
      "text/html": [
       "<div>\n",
       "<style scoped>\n",
       "    .dataframe tbody tr th:only-of-type {\n",
       "        vertical-align: middle;\n",
       "    }\n",
       "\n",
       "    .dataframe tbody tr th {\n",
       "        vertical-align: top;\n",
       "    }\n",
       "\n",
       "    .dataframe thead th {\n",
       "        text-align: right;\n",
       "    }\n",
       "</style>\n",
       "<table border=\"1\" class=\"dataframe\">\n",
       "  <thead>\n",
       "    <tr style=\"text-align: right;\">\n",
       "      <th></th>\n",
       "      <th>fake</th>\n",
       "      <th>reliable</th>\n",
       "      <th>accuracy</th>\n",
       "      <th>macro avg</th>\n",
       "      <th>weighted avg</th>\n",
       "    </tr>\n",
       "  </thead>\n",
       "  <tbody>\n",
       "    <tr>\n",
       "      <th>f1-score</th>\n",
       "      <td>0.486636</td>\n",
       "      <td>0.615597</td>\n",
       "      <td>0.560379</td>\n",
       "      <td>0.551116</td>\n",
       "      <td>0.559310</td>\n",
       "    </tr>\n",
       "    <tr>\n",
       "      <th>precision</th>\n",
       "      <td>0.496241</td>\n",
       "      <td>0.606803</td>\n",
       "      <td>0.560379</td>\n",
       "      <td>0.551522</td>\n",
       "      <td>0.558546</td>\n",
       "    </tr>\n",
       "    <tr>\n",
       "      <th>recall</th>\n",
       "      <td>0.477396</td>\n",
       "      <td>0.624650</td>\n",
       "      <td>0.560379</td>\n",
       "      <td>0.551023</td>\n",
       "      <td>0.560379</td>\n",
       "    </tr>\n",
       "    <tr>\n",
       "      <th>support</th>\n",
       "      <td>1106.000000</td>\n",
       "      <td>1428.000000</td>\n",
       "      <td>0.560379</td>\n",
       "      <td>2534.000000</td>\n",
       "      <td>2534.000000</td>\n",
       "    </tr>\n",
       "  </tbody>\n",
       "</table>\n",
       "</div>"
      ],
      "text/plain": [
       "                  fake     reliable  accuracy    macro avg  weighted avg\n",
       "f1-score      0.486636     0.615597  0.560379     0.551116      0.559310\n",
       "precision     0.496241     0.606803  0.560379     0.551522      0.558546\n",
       "recall        0.477396     0.624650  0.560379     0.551023      0.560379\n",
       "support    1106.000000  1428.000000  0.560379  2534.000000   2534.000000"
      ]
     },
     "execution_count": 9,
     "metadata": {},
     "output_type": "execute_result"
    }
   ],
   "source": [
    "pd.DataFrame(clr)"
   ]
  },
  {
   "cell_type": "code",
   "execution_count": 12,
   "metadata": {},
   "outputs": [],
   "source": [
    "y_true, y_pred = generateFromCM([1012,  416,  676,  430])\n",
    "clr = classification_report(y_true, y_pred, output_dict = True)\n",
    "df = pd.DataFrame(clr)"
   ]
  },
  {
   "cell_type": "code",
   "execution_count": 13,
   "metadata": {},
   "outputs": [],
   "source": [
    "df.to_latex('out.tex')"
   ]
  },
  {
   "cell_type": "code",
   "execution_count": 14,
   "metadata": {},
   "outputs": [
    {
     "data": {
      "text/html": [
       "<div>\n",
       "<style scoped>\n",
       "    .dataframe tbody tr th:only-of-type {\n",
       "        vertical-align: middle;\n",
       "    }\n",
       "\n",
       "    .dataframe tbody tr th {\n",
       "        vertical-align: top;\n",
       "    }\n",
       "\n",
       "    .dataframe thead th {\n",
       "        text-align: right;\n",
       "    }\n",
       "</style>\n",
       "<table border=\"1\" class=\"dataframe\">\n",
       "  <thead>\n",
       "    <tr style=\"text-align: right;\">\n",
       "      <th></th>\n",
       "      <th>fake</th>\n",
       "      <th>reliable</th>\n",
       "      <th>accuracy</th>\n",
       "      <th>macro avg</th>\n",
       "      <th>weighted avg</th>\n",
       "    </tr>\n",
       "  </thead>\n",
       "  <tbody>\n",
       "    <tr>\n",
       "      <th>f1-score</th>\n",
       "      <td>0.440574</td>\n",
       "      <td>0.649551</td>\n",
       "      <td>0.569061</td>\n",
       "      <td>0.545062</td>\n",
       "      <td>0.558340</td>\n",
       "    </tr>\n",
       "    <tr>\n",
       "      <th>precision</th>\n",
       "      <td>0.508274</td>\n",
       "      <td>0.599526</td>\n",
       "      <td>0.569061</td>\n",
       "      <td>0.553900</td>\n",
       "      <td>0.559698</td>\n",
       "    </tr>\n",
       "    <tr>\n",
       "      <th>recall</th>\n",
       "      <td>0.388788</td>\n",
       "      <td>0.708683</td>\n",
       "      <td>0.569061</td>\n",
       "      <td>0.548736</td>\n",
       "      <td>0.569061</td>\n",
       "    </tr>\n",
       "    <tr>\n",
       "      <th>support</th>\n",
       "      <td>1106.000000</td>\n",
       "      <td>1428.000000</td>\n",
       "      <td>0.569061</td>\n",
       "      <td>2534.000000</td>\n",
       "      <td>2534.000000</td>\n",
       "    </tr>\n",
       "  </tbody>\n",
       "</table>\n",
       "</div>"
      ],
      "text/plain": [
       "                  fake     reliable  accuracy    macro avg  weighted avg\n",
       "f1-score      0.440574     0.649551  0.569061     0.545062      0.558340\n",
       "precision     0.508274     0.599526  0.569061     0.553900      0.559698\n",
       "recall        0.388788     0.708683  0.569061     0.548736      0.569061\n",
       "support    1106.000000  1428.000000  0.569061  2534.000000   2534.000000"
      ]
     },
     "execution_count": 14,
     "metadata": {},
     "output_type": "execute_result"
    }
   ],
   "source": [
    "df"
   ]
  },
  {
   "cell_type": "code",
   "execution_count": null,
   "metadata": {},
   "outputs": [],
   "source": []
  }
 ],
 "metadata": {
  "kernelspec": {
   "display_name": "Python 3",
   "language": "python",
   "name": "python3"
  },
  "language_info": {
   "codemirror_mode": {
    "name": "ipython",
    "version": 3
   },
   "file_extension": ".py",
   "mimetype": "text/x-python",
   "name": "python",
   "nbconvert_exporter": "python",
   "pygments_lexer": "ipython3",
   "version": "3.7.3"
  }
 },
 "nbformat": 4,
 "nbformat_minor": 2
}
