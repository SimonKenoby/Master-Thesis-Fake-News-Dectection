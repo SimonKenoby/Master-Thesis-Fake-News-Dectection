{
 "cells": [
  {
   "cell_type": "code",
   "execution_count": 1,
   "metadata": {},
   "outputs": [],
   "source": [
    "import pandas as pd\n",
    "import seaborn as sns\n",
    "import numpy as np\n",
    "from pymongo import MongoClient\n",
    "import matplotlib.pyplot as plt\n",
    "from sklearn.metrics import classification_report, confusion_matrix\n",
    "from tqdm import tqdm"
   ]
  },
  {
   "cell_type": "code",
   "execution_count": 2,
   "metadata": {},
   "outputs": [],
   "source": [
    "client = MongoClient('localhost', 27017)\n",
    "db = client.TFE\n",
    "collection = db.results4"
   ]
  },
  {
   "cell_type": "code",
   "execution_count": 3,
   "metadata": {},
   "outputs": [],
   "source": [
    "def generateFromCM(cm):\n",
    "    tn, fp, fn, tp = cm\n",
    "    y_true = ['reliable' for i in range(0, tn + fp)]\n",
    "    y_pred = ['reliable' for i in range(0, tn)]+['fake' for i in range(0, fp)]\n",
    "    y_true = y_true + ['fake' for i in range(0, fn + tp)]\n",
    "    y_pred = y_pred + ['reliable' for i in range(0, fn)] + ['fake' for i in range(0, tp)]\n",
    "    return y_true, y_pred"
   ]
  },
  {
   "cell_type": "code",
   "execution_count": 7,
   "metadata": {},
   "outputs": [
    {
     "name": "stderr",
     "output_type": "stream",
     "text": [
      "  0%|          | 0/1 [00:00<?, ?it/s]"
     ]
    },
    {
     "name": "stdout",
     "output_type": "stream",
     "text": [
      "0\n"
     ]
    },
    {
     "name": "stderr",
     "output_type": "stream",
     "text": [
      "/home/simon/anaconda3/lib/python3.7/site-packages/sklearn/metrics/classification.py:1437: UndefinedMetricWarning: Precision and F-score are ill-defined and being set to 0.0 in labels with no predicted samples.\n",
      "  'precision', 'predicted', average, warn_for)\n",
      "100%|██████████| 1/1 [01:12<00:00, 72.87s/it]\n"
     ]
    }
   ],
   "source": [
    "cursor = collection.find({'model' : 'Attention LSTM 1.2', 'finish' : True}, no_cursor_timeout=True)\n",
    "pbar = tqdm(total=1)\n",
    "for i, res in enumerate(cursor):\n",
    "    print(i)\n",
    "    for i, result in enumerate(res['result']):\n",
    "        epoch = result['epoch']\n",
    "        cm = result['valid']['Confusion Matrix']\n",
    "        y_true, y_pred = generateFromCM(cm)\n",
    "        clr = classification_report(y_true, y_pred, output_dict = True)\n",
    "        collection.update_one({'experiment_id' : res['experiment_id'], 'result.epoch' : epoch}, {\"$set\" : {'result.$.valid.clr' : clr}})\n",
    "        \n",
    "        cm = result['train']['Confusion Matrix']\n",
    "        y_true, y_pred = generateFromCM(cm)\n",
    "        clr = classification_report(y_true, y_pred, output_dict = True)\n",
    "        collection.update_one({'experiment_id' : res['experiment_id'], 'result.epoch' : epoch}, {\"$set\" : {'result.$.train.clr' : clr}})\n",
    "    pbar.update(1)\n",
    "pbar.close()\n",
    "cursor.close()"
   ]
  },
  {
   "cell_type": "code",
   "execution_count": 8,
   "metadata": {},
   "outputs": [
    {
     "data": {
      "text/plain": [
       "{'fake': {'precision': 0.9239253483092063,\n",
       "  'recall': 0.9339965220949263,\n",
       "  'f1-score': 0.9289336389677527,\n",
       "  'support': 156416},\n",
       " 'reliable': {'precision': 0.9332691275992011,\n",
       "  'recall': 0.923096102700491,\n",
       "  'f1-score': 0.9281547406686016,\n",
       "  'support': 156416},\n",
       " 'accuracy': 0.9285463123977087,\n",
       " 'macro avg': {'precision': 0.9285972379542037,\n",
       "  'recall': 0.9285463123977087,\n",
       "  'f1-score': 0.9285441898181772,\n",
       "  'support': 312832},\n",
       " 'weighted avg': {'precision': 0.9285972379542037,\n",
       "  'recall': 0.9285463123977087,\n",
       "  'f1-score': 0.9285441898181771,\n",
       "  'support': 312832}}"
      ]
     },
     "execution_count": 8,
     "metadata": {},
     "output_type": "execute_result"
    }
   ],
   "source": [
    "clr"
   ]
  },
  {
   "cell_type": "code",
   "execution_count": null,
   "metadata": {},
   "outputs": [],
   "source": []
  }
 ],
 "metadata": {
  "kernelspec": {
   "display_name": "Python 3",
   "language": "python",
   "name": "python3"
  },
  "language_info": {
   "codemirror_mode": {
    "name": "ipython",
    "version": 3
   },
   "file_extension": ".py",
   "mimetype": "text/x-python",
   "name": "python",
   "nbconvert_exporter": "python",
   "pygments_lexer": "ipython3",
   "version": "3.7.3"
  }
 },
 "nbformat": 4,
 "nbformat_minor": 2
}
