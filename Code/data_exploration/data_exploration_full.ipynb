{
 "cells": [
  {
   "cell_type": "code",
   "execution_count": 1,
   "metadata": {},
   "outputs": [],
   "source": [
    "import pandas as pd\n",
    "import matplotlib.pyplot as plt\n",
    "import matplotlib\n",
    "import numpy as np\n",
    "import seaborn as sns\n",
    "import sys,os\n",
    "import json\n",
    "import random\n",
    "import altair as alt\n",
    "\n",
    "from scipy import stats\n",
    "from pymongo import MongoClient\n",
    "from tqdm import tqdm"
   ]
  },
  {
   "cell_type": "code",
   "execution_count": 2,
   "metadata": {},
   "outputs": [],
   "source": [
    "%matplotlib inline\n",
    "sns.set(style=\"darkgrid\")"
   ]
  },
  {
   "cell_type": "code",
   "execution_count": 3,
   "metadata": {},
   "outputs": [],
   "source": [
    "client = MongoClient('localhost', 27017)\n",
    "db = client.TFE\n",
    "collection = db.news_cleaned"
   ]
  },
  {
   "cell_type": "code",
   "execution_count": 4,
   "metadata": {},
   "outputs": [],
   "source": [
    "res = collection.aggregate([\n",
    "    {\n",
    "        '$group': {\n",
    "                '_id' : {'type' : '$type'},\n",
    "                'newsCount' : {'$sum' : 1}\n",
    "            }\n",
    "        }])"
   ]
  },
  {
   "cell_type": "code",
   "execution_count": 5,
   "metadata": {},
   "outputs": [],
   "source": [
    "types = []\n",
    "count = []\n",
    "for r in res:\n",
    "    types.append(r['_id']['type'])\n",
    "    count.append(r['newsCount'])"
   ]
  },
  {
   "cell_type": "code",
   "execution_count": 6,
   "metadata": {},
   "outputs": [],
   "source": [
    "data = pd.DataFrame({'x' : types, 'y' : count})"
   ]
  },
  {
   "cell_type": "code",
   "execution_count": null,
   "metadata": {},
   "outputs": [],
   "source": [
    "alt.Chart(data).mark_bar().encode(\n",
    "    x = alt.X('x', axis=alt.Axis(title=\"type\")),\n",
    "    y = alt.Y('y', axis=alt.Axis(title=\"Count\"))\n",
    ")"
   ]
  },
  {
   "cell_type": "code",
   "execution_count": 15,
   "metadata": {},
   "outputs": [
    {
     "data": {
      "text/plain": [
       "3838.5"
      ]
     },
     "execution_count": 15,
     "metadata": {},
     "output_type": "execute_result"
    }
   ],
   "source": [
    "np.max(avgSentenceLength['fake'])"
   ]
  },
  {
   "cell_type": "code",
   "execution_count": 9,
   "metadata": {},
   "outputs": [],
   "source": [
    "avgSentenceLength = {}\n",
    "for t in types:\n",
    "    data = collection.find({'type' : t}, {'avgSentenceLength' : True, '_id' : False})\n",
    "    data = [x['avgSentenceLength'] for x in data]\n",
    "    avgSentenceLength[t] = data"
   ]
  },
  {
   "cell_type": "code",
   "execution_count": 23,
   "metadata": {},
   "outputs": [],
   "source": [
    "data = pd.DataFrame(columns=['l', 'q1', 'q2', 'q3', 'h', 'type'])"
   ]
  },
  {
   "cell_type": "code",
   "execution_count": 24,
   "metadata": {},
   "outputs": [],
   "source": [
    "p = []\n",
    "for t in types:\n",
    "    percentile = np.percentile(avgSentenceLength[t], [25, 50, 75], interpolation='linear')\n",
    "    l = percentile[0] - (percentile[1] - percentile[0]) * 1.5\n",
    "    h = percentile[2] + (percentile[2] - percentile[1])\n",
    "    if h > np.max(avgSentenceLength[t]):\n",
    "        h = np.max(avgSentenceLength[t])\n",
    "    if l < np.min(avgSentenceLength[t]):\n",
    "        t = np.min(avgSentenceLength[t])\n",
    "    p.append({'l': l, 'q1' : percentile[0], 'q2' : percentile[1], 'q3' : percentile[2], 'h' : h,  'type' : t})"
   ]
  },
  {
   "cell_type": "code",
   "execution_count": 25,
   "metadata": {},
   "outputs": [],
   "source": [
    "data = data.append(p)"
   ]
  },
  {
   "cell_type": "code",
   "execution_count": 26,
   "metadata": {},
   "outputs": [],
   "source": [
    "base = alt.Chart(data)\n",
    "\n",
    "lower_plot = base.mark_rule().encode(\n",
    "    y=alt.Y('l', axis=alt.Axis(title=\"Average Sentence Length\")),\n",
    "    y2='q1',\n",
    "    x='type'\n",
    ")\n",
    "\n",
    "middle_plot = base.mark_bar(size=5.0).encode(\n",
    "    y='q1',\n",
    "    y2='q3',\n",
    "    x='type'\n",
    ")\n",
    "upper_plot = base.mark_rule().encode(\n",
    "    y='h',\n",
    "    y2='q3',\n",
    "    x='type'\n",
    ")\n",
    "\n",
    "middle_tick = base.mark_tick(\n",
    "    color='white',\n",
    "    size=5.0\n",
    ").encode(\n",
    "    y='q2',\n",
    "    x='type',\n",
    ")\n",
    "\n",
    "chart = lower_plot + middle_plot + upper_plot + middle_tick\n",
    "chart.save('out/boxplot.png', webdriver='firefox')"
   ]
  },
  {
   "cell_type": "code",
   "execution_count": 32,
   "metadata": {},
   "outputs": [],
   "source": [
    "numSentences = {}\n",
    "for t in types:\n",
    "    data = collection.find({'type' : t}, {'numSentences' : True, '_id' : False})\n",
    "    data = [x['numSentences'] for x in data]\n",
    "    numSentences[t] = data\n",
    "    \n",
    "p = []\n",
    "for t in types:\n",
    "    percentile = np.percentile(numSentences[t], [25, 50, 75], interpolation='linear')\n",
    "    l = percentile[0] - (percentile[1] - percentile[0]) * 1.5\n",
    "    h = percentile[2] + (percentile[2] - percentile[1])\n",
    "    if h > np.max(avgSentenceLength[t]):\n",
    "        h = np.max(avgSentenceLength[t])\n",
    "    if l < np.min(avgSentenceLength[t]):\n",
    "        l = np.min(avgSentenceLength[t])\n",
    "    p.append({'l': l, 'q1' : percentile[0], 'q2' : percentile[1], 'q3' : percentile[2], 'h' : h,  'type' : t})"
   ]
  },
  {
   "cell_type": "code",
   "execution_count": 33,
   "metadata": {},
   "outputs": [],
   "source": [
    "data = pd.DataFrame(columns=['l', 'q1', 'q2', 'q3', 'h', 'type'])\n",
    "data = data.append(p)\n",
    "\n",
    "base = alt.Chart(data)\n",
    "\n",
    "lower_plot = base.mark_rule().encode(\n",
    "    y=alt.Y('l', axis=alt.Axis(title=\"Number of sentences\")),\n",
    "    y2='q1',\n",
    "    x='type'\n",
    ")\n",
    "\n",
    "middle_plot = base.mark_bar(size=5.0).encode(\n",
    "    y='q1',\n",
    "    y2='q3',\n",
    "    x='type'\n",
    ")\n",
    "upper_plot = base.mark_rule().encode(\n",
    "    y='h',\n",
    "    y2='q3',\n",
    "    x='type'\n",
    ")\n",
    "\n",
    "middle_tick = base.mark_tick(\n",
    "    color='white',\n",
    "    size=5.0\n",
    ").encode(\n",
    "    y='q2',\n",
    "    x='type',\n",
    ")\n",
    "\n",
    "chart = lower_plot + middle_plot + upper_plot + middle_tick\n",
    "chart.save('out/boxplot_full_numSentences.png', webdriver='firefox')"
   ]
  },
  {
   "cell_type": "code",
   "execution_count": 11,
   "metadata": {},
   "outputs": [
    {
     "name": "stderr",
     "output_type": "stream",
     "text": [
      "/home/simon/anaconda3/lib/python3.7/site-packages/altair/utils/core.py:294: FutureWarning: A future version of pandas will default to `skipna=True`. To silence this warning, pass `skipna=True|False` explicitly.\n",
      "  attrs['type'] = infer_vegalite_type(data[attrs['field']])\n",
      "/home/simon/anaconda3/lib/python3.7/site-packages/altair/utils/core.py:294: FutureWarning: A future version of pandas will default to `skipna=True`. To silence this warning, pass `skipna=True|False` explicitly.\n",
      "  attrs['type'] = infer_vegalite_type(data[attrs['field']])\n",
      "/home/simon/anaconda3/lib/python3.7/site-packages/altair/utils/core.py:294: FutureWarning: A future version of pandas will default to `skipna=True`. To silence this warning, pass `skipna=True|False` explicitly.\n",
      "  attrs['type'] = infer_vegalite_type(data[attrs['field']])\n",
      "/home/simon/anaconda3/lib/python3.7/site-packages/altair/utils/core.py:294: FutureWarning: A future version of pandas will default to `skipna=True`. To silence this warning, pass `skipna=True|False` explicitly.\n",
      "  attrs['type'] = infer_vegalite_type(data[attrs['field']])\n",
      "/home/simon/anaconda3/lib/python3.7/site-packages/altair/utils/core.py:294: FutureWarning: A future version of pandas will default to `skipna=True`. To silence this warning, pass `skipna=True|False` explicitly.\n",
      "  attrs['type'] = infer_vegalite_type(data[attrs['field']])\n",
      "/home/simon/anaconda3/lib/python3.7/site-packages/altair/utils/core.py:294: FutureWarning: A future version of pandas will default to `skipna=True`. To silence this warning, pass `skipna=True|False` explicitly.\n",
      "  attrs['type'] = infer_vegalite_type(data[attrs['field']])\n",
      "/home/simon/anaconda3/lib/python3.7/site-packages/altair/utils/core.py:294: FutureWarning: A future version of pandas will default to `skipna=True`. To silence this warning, pass `skipna=True|False` explicitly.\n",
      "  attrs['type'] = infer_vegalite_type(data[attrs['field']])\n",
      "/home/simon/anaconda3/lib/python3.7/site-packages/altair/utils/core.py:294: FutureWarning: A future version of pandas will default to `skipna=True`. To silence this warning, pass `skipna=True|False` explicitly.\n",
      "  attrs['type'] = infer_vegalite_type(data[attrs['field']])\n",
      "/home/simon/anaconda3/lib/python3.7/site-packages/altair/utils/core.py:294: FutureWarning: A future version of pandas will default to `skipna=True`. To silence this warning, pass `skipna=True|False` explicitly.\n",
      "  attrs['type'] = infer_vegalite_type(data[attrs['field']])\n",
      "/home/simon/anaconda3/lib/python3.7/site-packages/altair/utils/core.py:294: FutureWarning: A future version of pandas will default to `skipna=True`. To silence this warning, pass `skipna=True|False` explicitly.\n",
      "  attrs['type'] = infer_vegalite_type(data[attrs['field']])\n",
      "/home/simon/anaconda3/lib/python3.7/site-packages/altair/utils/core.py:294: FutureWarning: A future version of pandas will default to `skipna=True`. To silence this warning, pass `skipna=True|False` explicitly.\n",
      "  attrs['type'] = infer_vegalite_type(data[attrs['field']])\n"
     ]
    }
   ],
   "source": [
    "domain = []\n",
    "count = []\n",
    "for t in types:\n",
    "    domain = []\n",
    "    count = []\n",
    "    for res in collection.aggregate([\n",
    "        {'$match': {'type' : t}},\n",
    "        {\n",
    "            '$group': {\n",
    "                    '_id' : {'domain' : '$domain'},\n",
    "                    'newsCount' : {'$sum' : 1}\n",
    "                }\n",
    "        }\n",
    "            ]):\n",
    "        domain.append(res['_id']['domain'])\n",
    "        count.append(res['newsCount'])\n",
    "    data = pd.DataFrame({'x' : domain, 'y' : count})\n",
    "    chart = alt.Chart(data).mark_bar().encode(\n",
    "        x = alt.X('x', axis=alt.Axis(title=\"domains\")),\n",
    "        y = alt.Y('y', axis=alt.Axis(title=\"Count\")))\n",
    "    chart.save('out/'+t+'.svg')"
   ]
  },
  {
   "cell_type": "code",
   "execution_count": 76,
   "metadata": {},
   "outputs": [],
   "source": [
    "metadata = db.metadata"
   ]
  },
  {
   "cell_type": "code",
   "execution_count": 81,
   "metadata": {},
   "outputs": [],
   "source": [
    "for i in range(0, len(domains)):\n",
    "    metadata.insert_one({'_id' : i, 'domain' : domains[i], 'metadata' : {'count' : {'total' : count[i]}}})"
   ]
  },
  {
   "cell_type": "code",
   "execution_count": 88,
   "metadata": {},
   "outputs": [],
   "source": [
    "# Looking if some domains have multiple kind of news\n",
    "for res in collection.aggregate([\n",
    "    {\n",
    "        '$group': {\n",
    "                '_id' : {'domain' : '$domain', 'type' : '$type'},\n",
    "                'newsCount' : {'$sum' : 1}\n",
    "            }\n",
    "    },\n",
    "    {\n",
    "        '$group' : \n",
    "        {\n",
    "            '_id' : '$_id.domain',\n",
    "            'meta' : \n",
    "            {\n",
    "                '$push' : \n",
    "                {\n",
    "                    'type' : '$_id.type',\n",
    "                    'count' : '$newsCount'\n",
    "                }\n",
    "            }\n",
    "        }\n",
    "     }\n",
    "        ]):\n",
    "    if len(res['meta']) > 1:\n",
    "        print(res)"
   ]
  }
 ],
 "metadata": {
  "kernelspec": {
   "display_name": "Python 3",
   "language": "python",
   "name": "python3"
  },
  "language_info": {
   "codemirror_mode": {
    "name": "ipython",
    "version": 3
   },
   "file_extension": ".py",
   "mimetype": "text/x-python",
   "name": "python",
   "nbconvert_exporter": "python",
   "pygments_lexer": "ipython3",
   "version": "3.7.3"
  }
 },
 "nbformat": 4,
 "nbformat_minor": 2
}
