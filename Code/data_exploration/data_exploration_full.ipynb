{
 "cells": [
  {
   "cell_type": "code",
   "execution_count": 17,
   "metadata": {},
   "outputs": [],
   "source": [
    "import pandas as pd\n",
    "import matplotlib.pyplot as plt\n",
    "import matplotlib\n",
    "import numpy as np\n",
    "import seaborn as sns\n",
    "import sys,os\n",
    "import json\n",
    "import random\n",
    "import altair as alt\n",
    "\n",
    "from scipy import stats\n",
    "from pymongo import MongoClient\n",
    "from tqdm import tqdm"
   ]
  },
  {
   "cell_type": "code",
   "execution_count": 18,
   "metadata": {},
   "outputs": [],
   "source": [
    "%matplotlib inline\n",
    "sns.set(style=\"darkgrid\")"
   ]
  },
  {
   "cell_type": "code",
   "execution_count": 19,
   "metadata": {},
   "outputs": [],
   "source": [
    "client = MongoClient('localhost', 27017)\n",
    "db = client.TFE\n",
    "collection = db.news_cleaned"
   ]
  },
  {
   "cell_type": "code",
   "execution_count": 20,
   "metadata": {},
   "outputs": [],
   "source": [
    "res = collection.aggregate([\n",
    "    {\n",
    "        '$group': {\n",
    "                '_id' : {'type' : '$type'},\n",
    "                'newsCount' : {'$sum' : 1}\n",
    "            }\n",
    "        }])"
   ]
  },
  {
   "cell_type": "code",
   "execution_count": 21,
   "metadata": {},
   "outputs": [],
   "source": [
    "types = []\n",
    "count = []\n",
    "for r in res:\n",
    "    types.append(r['_id']['type'])\n",
    "    count.append(r['newsCount'])"
   ]
  },
  {
   "cell_type": "code",
   "execution_count": 22,
   "metadata": {},
   "outputs": [],
   "source": [
    "data = pd.DataFrame({'x' : types, 'y' : count})"
   ]
  },
  {
   "cell_type": "code",
   "execution_count": 23,
   "metadata": {},
   "outputs": [
    {
     "data": {
      "application/vnd.vegalite.v3+json": {
       "$schema": "https://vega.github.io/schema/vega-lite/v3.2.1.json",
       "config": {
        "mark": {
         "tooltip": null
        },
        "view": {
         "height": 300,
         "width": 400
        }
       },
       "data": {
        "name": "data-8dcf6f683d28192137b4d4c2284e068f"
       },
       "datasets": {
        "data-8dcf6f683d28192137b4d4c2284e068f": [
         {
          "x": "unknown",
          "y": 231301
         },
         {
          "x": "junksci",
          "y": 79342
         },
         {
          "x": "conspiracy",
          "y": 495402
         },
         {
          "x": "fake",
          "y": 770287
         },
         {
          "x": "unreliable",
          "y": 104657
         },
         {
          "x": "hate",
          "y": 65264
         },
         {
          "x": "clickbait",
          "y": 176403
         },
         {
          "x": "rumor",
          "y": 376815
         },
         {
          "x": "reliable",
          "y": 1811644
         },
         {
          "x": "bias",
          "y": 771407
         },
         {
          "x": "satire",
          "y": 85523
         },
         {
          "x": "political",
          "y": 972283
         }
        ]
       },
       "encoding": {
        "x": {
         "axis": {
          "title": "type"
         },
         "field": "x",
         "type": "nominal"
        },
        "y": {
         "axis": {
          "title": "Count"
         },
         "field": "y",
         "type": "quantitative"
        }
       },
       "mark": "bar"
      },
      "text/plain": [
       "<VegaLite 3 object>\n",
       "\n",
       "If you see this message, it means the renderer has not been properly enabled\n",
       "for the frontend that you are using. For more information, see\n",
       "https://altair-viz.github.io/user_guide/troubleshooting.html\n"
      ]
     },
     "execution_count": 23,
     "metadata": {},
     "output_type": "execute_result"
    }
   ],
   "source": [
    "alt.Chart(data).mark_bar().encode(\n",
    "    x = alt.X('x', axis=alt.Axis(title=\"type\")),\n",
    "    y = alt.Y('y', axis=alt.Axis(title=\"Count\"))\n",
    ")"
   ]
  },
  {
   "cell_type": "code",
   "execution_count": 25,
   "metadata": {},
   "outputs": [],
   "source": [
    "avgSentenceLength = {}\n",
    "for t in types:\n",
    "    data = collection.find({'type' : t}, {'avgSentenceLength' : True, '_id' : False})\n",
    "    data = [x['avgSentenceLength'] for x in data]\n",
    "    avgSentenceLength[t] = data"
   ]
  },
  {
   "cell_type": "code",
   "execution_count": 31,
   "metadata": {},
   "outputs": [],
   "source": [
    "data = pd.DataFrame(columns=['l', 'q1', 'q2', 'q3', 'h', 'type'])"
   ]
  },
  {
   "cell_type": "code",
   "execution_count": 32,
   "metadata": {},
   "outputs": [],
   "source": [
    "p = []\n",
    "for t in types:\n",
    "    percentile = np.percentile(avgSentenceLength[t], [25, 50, 75], interpolation='linear')\n",
    "    l = percentile[0] - (percentile[2] - percentile[0]) * 1.5\n",
    "    h = percentile[2] + (percentile[2] - percentile[0]) * 1.5\n",
    "    if h > np.max(avgSentenceLength[t]):\n",
    "        h = np.max(avgSentenceLength[t])\n",
    "    if l < np.min(avgSentenceLength[t]):\n",
    "        l = np.min(avgSentenceLength[t])\n",
    "    p.append({'l': l, 'q1' : percentile[0], 'q2' : percentile[1], 'q3' : percentile[2], 'h' : h,  'type' : t})"
   ]
  },
  {
   "cell_type": "code",
   "execution_count": 33,
   "metadata": {},
   "outputs": [],
   "source": [
    "data = data.append(p)"
   ]
  },
  {
   "cell_type": "code",
   "execution_count": 34,
   "metadata": {},
   "outputs": [
    {
     "data": {
      "text/html": [
       "<div>\n",
       "<style scoped>\n",
       "    .dataframe tbody tr th:only-of-type {\n",
       "        vertical-align: middle;\n",
       "    }\n",
       "\n",
       "    .dataframe tbody tr th {\n",
       "        vertical-align: top;\n",
       "    }\n",
       "\n",
       "    .dataframe thead th {\n",
       "        text-align: right;\n",
       "    }\n",
       "</style>\n",
       "<table border=\"1\" class=\"dataframe\">\n",
       "  <thead>\n",
       "    <tr style=\"text-align: right;\">\n",
       "      <th></th>\n",
       "      <th>l</th>\n",
       "      <th>q1</th>\n",
       "      <th>q2</th>\n",
       "      <th>q3</th>\n",
       "      <th>h</th>\n",
       "      <th>type</th>\n",
       "    </tr>\n",
       "  </thead>\n",
       "  <tbody>\n",
       "    <tr>\n",
       "      <th>0</th>\n",
       "      <td>0.500000</td>\n",
       "      <td>9.000000</td>\n",
       "      <td>11.586667</td>\n",
       "      <td>14.717647</td>\n",
       "      <td>23.294118</td>\n",
       "      <td>unknown</td>\n",
       "    </tr>\n",
       "    <tr>\n",
       "      <th>1</th>\n",
       "      <td>1.166667</td>\n",
       "      <td>9.458333</td>\n",
       "      <td>12.242819</td>\n",
       "      <td>15.882353</td>\n",
       "      <td>25.518382</td>\n",
       "      <td>junksci</td>\n",
       "    </tr>\n",
       "    <tr>\n",
       "      <th>2</th>\n",
       "      <td>0.457143</td>\n",
       "      <td>8.000000</td>\n",
       "      <td>11.181818</td>\n",
       "      <td>15.100000</td>\n",
       "      <td>25.750000</td>\n",
       "      <td>conspiracy</td>\n",
       "    </tr>\n",
       "    <tr>\n",
       "      <th>3</th>\n",
       "      <td>0.333333</td>\n",
       "      <td>8.396030</td>\n",
       "      <td>10.823529</td>\n",
       "      <td>13.777778</td>\n",
       "      <td>21.850400</td>\n",
       "      <td>fake</td>\n",
       "    </tr>\n",
       "    <tr>\n",
       "      <th>4</th>\n",
       "      <td>3.459302</td>\n",
       "      <td>9.883721</td>\n",
       "      <td>11.777778</td>\n",
       "      <td>14.166667</td>\n",
       "      <td>20.591085</td>\n",
       "      <td>unreliable</td>\n",
       "    </tr>\n",
       "    <tr>\n",
       "      <th>5</th>\n",
       "      <td>3.500000</td>\n",
       "      <td>9.818182</td>\n",
       "      <td>11.818182</td>\n",
       "      <td>14.030303</td>\n",
       "      <td>20.348485</td>\n",
       "      <td>hate</td>\n",
       "    </tr>\n",
       "    <tr>\n",
       "      <th>6</th>\n",
       "      <td>0.986735</td>\n",
       "      <td>8.734694</td>\n",
       "      <td>11.000000</td>\n",
       "      <td>13.900000</td>\n",
       "      <td>21.647959</td>\n",
       "      <td>clickbait</td>\n",
       "    </tr>\n",
       "    <tr>\n",
       "      <th>7</th>\n",
       "      <td>3.125000</td>\n",
       "      <td>10.250000</td>\n",
       "      <td>12.500000</td>\n",
       "      <td>15.000000</td>\n",
       "      <td>22.125000</td>\n",
       "      <td>rumor</td>\n",
       "    </tr>\n",
       "    <tr>\n",
       "      <th>8</th>\n",
       "      <td>2.375000</td>\n",
       "      <td>8.750000</td>\n",
       "      <td>10.627907</td>\n",
       "      <td>13.000000</td>\n",
       "      <td>19.375000</td>\n",
       "      <td>reliable</td>\n",
       "    </tr>\n",
       "    <tr>\n",
       "      <th>9</th>\n",
       "      <td>2.102941</td>\n",
       "      <td>10.066176</td>\n",
       "      <td>12.500000</td>\n",
       "      <td>15.375000</td>\n",
       "      <td>23.338235</td>\n",
       "      <td>bias</td>\n",
       "    </tr>\n",
       "    <tr>\n",
       "      <th>10</th>\n",
       "      <td>0.886364</td>\n",
       "      <td>8.454545</td>\n",
       "      <td>10.681818</td>\n",
       "      <td>13.500000</td>\n",
       "      <td>21.068182</td>\n",
       "      <td>satire</td>\n",
       "    </tr>\n",
       "    <tr>\n",
       "      <th>11</th>\n",
       "      <td>0.334545</td>\n",
       "      <td>8.581818</td>\n",
       "      <td>11.171429</td>\n",
       "      <td>14.080000</td>\n",
       "      <td>22.327273</td>\n",
       "      <td>political</td>\n",
       "    </tr>\n",
       "  </tbody>\n",
       "</table>\n",
       "</div>"
      ],
      "text/plain": [
       "           l         q1         q2         q3          h        type\n",
       "0   0.500000   9.000000  11.586667  14.717647  23.294118     unknown\n",
       "1   1.166667   9.458333  12.242819  15.882353  25.518382     junksci\n",
       "2   0.457143   8.000000  11.181818  15.100000  25.750000  conspiracy\n",
       "3   0.333333   8.396030  10.823529  13.777778  21.850400        fake\n",
       "4   3.459302   9.883721  11.777778  14.166667  20.591085  unreliable\n",
       "5   3.500000   9.818182  11.818182  14.030303  20.348485        hate\n",
       "6   0.986735   8.734694  11.000000  13.900000  21.647959   clickbait\n",
       "7   3.125000  10.250000  12.500000  15.000000  22.125000       rumor\n",
       "8   2.375000   8.750000  10.627907  13.000000  19.375000    reliable\n",
       "9   2.102941  10.066176  12.500000  15.375000  23.338235        bias\n",
       "10  0.886364   8.454545  10.681818  13.500000  21.068182      satire\n",
       "11  0.334545   8.581818  11.171429  14.080000  22.327273   political"
      ]
     },
     "execution_count": 34,
     "metadata": {},
     "output_type": "execute_result"
    }
   ],
   "source": [
    "data"
   ]
  },
  {
   "cell_type": "code",
   "execution_count": 35,
   "metadata": {},
   "outputs": [],
   "source": [
    "base = alt.Chart(data)\n",
    "\n",
    "lower_plot = base.mark_rule().encode(\n",
    "    y=alt.Y('l', axis=alt.Axis(title=\"Average Sentence Length\")),\n",
    "    y2='q1',\n",
    "    x='type'\n",
    ")\n",
    "\n",
    "middle_plot = base.mark_bar(size=5.0).encode(\n",
    "    y='q1',\n",
    "    y2='q3',\n",
    "    x='type'\n",
    ")\n",
    "upper_plot = base.mark_rule().encode(\n",
    "    y='h',\n",
    "    y2='q3',\n",
    "    x='type'\n",
    ")\n",
    "\n",
    "middle_tick = base.mark_tick(\n",
    "    color='white',\n",
    "    size=5.0\n",
    ").encode(\n",
    "    y='q2',\n",
    "    x='type',\n",
    ")\n",
    "\n",
    "chart = lower_plot + middle_plot + upper_plot + middle_tick\n",
    "chart.save('out/boxplot.svg', webdriver='firefox')"
   ]
  },
  {
   "cell_type": "code",
   "execution_count": 36,
   "metadata": {},
   "outputs": [],
   "source": [
    "numSentences = {}\n",
    "for t in types:\n",
    "    data = collection.find({'type' : t}, {'numSentences' : True, '_id' : False})\n",
    "    data = [x['numSentences'] for x in data]\n",
    "    numSentences[t] = data\n",
    "    \n",
    "p = []\n",
    "for t in types:\n",
    "    percentile = np.percentile(numSentences[t], [25, 50, 75], interpolation='linear')\n",
    "    l = percentile[0] - (percentile[2] - percentile[0]) * 1.5\n",
    "    h = percentile[2] + (percentile[2] - percentile[0]) * 1.5\n",
    "    if h > np.max(avgSentenceLength[t]):\n",
    "        h = np.max(avgSentenceLength[t])\n",
    "    if l < np.min(avgSentenceLength[t]):\n",
    "        l = np.min(avgSentenceLength[t])\n",
    "    p.append({'l': l, 'q1' : percentile[0], 'q2' : percentile[1], 'q3' : percentile[2], 'h' : h,  'type' : t})"
   ]
  },
  {
   "cell_type": "code",
   "execution_count": 38,
   "metadata": {},
   "outputs": [],
   "source": [
    "data = pd.DataFrame(columns=['l', 'q1', 'q2', 'q3', 'h', 'type'])\n",
    "data = data.append(p)\n",
    "\n",
    "base = alt.Chart(data)\n",
    "\n",
    "lower_plot = base.mark_rule().encode(\n",
    "    y=alt.Y('l', axis=alt.Axis(title=\"Number of sentences\")),\n",
    "    y2='q1',\n",
    "    x='type'\n",
    ")\n",
    "\n",
    "middle_plot = base.mark_bar(size=5.0).encode(\n",
    "    y='q1',\n",
    "    y2='q3',\n",
    "    x='type'\n",
    ")\n",
    "upper_plot = base.mark_rule().encode(\n",
    "    y='h',\n",
    "    y2='q3',\n",
    "    x='type'\n",
    ")\n",
    "\n",
    "middle_tick = base.mark_tick(\n",
    "    color='white',\n",
    "    size=5.0\n",
    ").encode(\n",
    "    y='q2',\n",
    "    x='type',\n",
    ")\n",
    "\n",
    "chart = lower_plot + middle_plot + upper_plot + middle_tick\n",
    "chart.save('out/boxplot_full_numSentences.svg', webdriver='firefox')"
   ]
  },
  {
   "cell_type": "code",
   "execution_count": null,
   "metadata": {},
   "outputs": [],
   "source": [
    "domain = []\n",
    "count = []\n",
    "for t in types:\n",
    "    domain = []\n",
    "    count = []\n",
    "    for res in collection.aggregate([\n",
    "        {'$match': {'type' : t}},\n",
    "        {\n",
    "            '$group': {\n",
    "                    '_id' : {'domain' : '$domain'},\n",
    "                    'newsCount' : {'$sum' : 1}\n",
    "                }\n",
    "        }\n",
    "            ]):\n",
    "        domain.append(res['_id']['domain'])\n",
    "        count.append(res['newsCount'])\n",
    "    data = pd.DataFrame({'x' : domain, 'y' : count})\n",
    "    chart = alt.Chart(data).mark_bar().encode(\n",
    "        x = alt.X('x', axis=alt.Axis(title=\"domains\")),\n",
    "        y = alt.Y('y', axis=alt.Axis(title=\"Count\")))\n",
    "    chart.save('out/'+t+'.svg', webdriver='firefox')"
   ]
  },
  {
   "cell_type": "code",
   "execution_count": null,
   "metadata": {},
   "outputs": [],
   "source": [
    "metadata = db.metadata"
   ]
  },
  {
   "cell_type": "code",
   "execution_count": null,
   "metadata": {},
   "outputs": [],
   "source": [
    "for i in range(0, len(domains)):\n",
    "    metadata.insert_one({'_id' : i, 'domain' : domains[i], 'metadata' : {'count' : {'total' : count[i]}}})"
   ]
  },
  {
   "cell_type": "code",
   "execution_count": null,
   "metadata": {},
   "outputs": [],
   "source": [
    "# Looking if some domains have multiple kind of news\n",
    "for res in collection.aggregate([\n",
    "    {\n",
    "        '$group': {\n",
    "                '_id' : {'domain' : '$domain', 'type' : '$type'},\n",
    "                'newsCount' : {'$sum' : 1}\n",
    "            }\n",
    "    },\n",
    "    {\n",
    "        '$group' : \n",
    "        {\n",
    "            '_id' : '$_id.domain',\n",
    "            'meta' : \n",
    "            {\n",
    "                '$push' : \n",
    "                {\n",
    "                    'type' : '$_id.type',\n",
    "                    'count' : '$newsCount'\n",
    "                }\n",
    "            }\n",
    "        }\n",
    "     }\n",
    "        ]):\n",
    "    if len(res['meta']) > 1:\n",
    "        print(res)"
   ]
  }
 ],
 "metadata": {
  "kernelspec": {
   "display_name": "Python 3",
   "language": "python",
   "name": "python3"
  },
  "language_info": {
   "codemirror_mode": {
    "name": "ipython",
    "version": 3
   },
   "file_extension": ".py",
   "mimetype": "text/x-python",
   "name": "python",
   "nbconvert_exporter": "python",
   "pygments_lexer": "ipython3",
   "version": "3.7.3"
  }
 },
 "nbformat": 4,
 "nbformat_minor": 2
}
