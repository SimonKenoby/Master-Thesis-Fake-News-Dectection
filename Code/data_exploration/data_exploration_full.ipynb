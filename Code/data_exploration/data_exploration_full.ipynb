{
 "cells": [
  {
   "cell_type": "code",
   "execution_count": 4,
   "metadata": {},
   "outputs": [],
   "source": [
    "import pandas as pd\n",
    "import matplotlib.pyplot as plt\n",
    "import matplotlib\n",
    "import numpy as np\n",
    "import seaborn as sns\n",
    "import sys,os\n",
    "import json\n",
    "import random\n",
    "import altair as alt\n",
    "\n",
    "from scipy import stats\n",
    "from pymongo import MongoClient\n",
    "from tqdm import tqdm"
   ]
  },
  {
   "cell_type": "code",
   "execution_count": 5,
   "metadata": {},
   "outputs": [],
   "source": [
    "%matplotlib inline\n",
    "sns.set(style=\"darkgrid\")"
   ]
  },
  {
   "cell_type": "code",
   "execution_count": 6,
   "metadata": {},
   "outputs": [],
   "source": [
    "client = MongoClient('localhost', 27017)\n",
    "db = client.TFE\n",
    "collection = db.news_cleaned"
   ]
  },
  {
   "cell_type": "code",
   "execution_count": 7,
   "metadata": {},
   "outputs": [],
   "source": [
    "res = collection.aggregate([\n",
    "    {\n",
    "        '$group': {\n",
    "                '_id' : {'type' : '$type'},\n",
    "                'newsCount' : {'$sum' : 1}\n",
    "            }\n",
    "        }])"
   ]
  },
  {
   "cell_type": "code",
   "execution_count": 8,
   "metadata": {},
   "outputs": [],
   "source": [
    "types = []\n",
    "count = []\n",
    "for r in res:\n",
    "    types.append(r['_id']['type'])\n",
    "    count.append(r['newsCount'])"
   ]
  },
  {
   "cell_type": "code",
   "execution_count": 9,
   "metadata": {},
   "outputs": [],
   "source": [
    "data = pd.DataFrame({'x' : types, 'y' : count})"
   ]
  },
  {
   "cell_type": "code",
   "execution_count": 10,
   "metadata": {},
   "outputs": [
    {
     "name": "stderr",
     "output_type": "stream",
     "text": [
      "/home/simon/anaconda3/lib/python3.7/site-packages/altair/utils/core.py:294: FutureWarning: A future version of pandas will default to `skipna=True`. To silence this warning, pass `skipna=True|False` explicitly.\n",
      "  attrs['type'] = infer_vegalite_type(data[attrs['field']])\n"
     ]
    },
    {
     "data": {
      "application/vnd.vegalite.v2+json": {
       "$schema": "https://vega.github.io/schema/vega-lite/v2.6.0.json",
       "config": {
        "view": {
         "height": 300,
         "width": 400
        }
       },
       "data": {
        "name": "data-8dcf6f683d28192137b4d4c2284e068f"
       },
       "datasets": {
        "data-8dcf6f683d28192137b4d4c2284e068f": [
         {
          "x": "unknown",
          "y": 231301
         },
         {
          "x": "junksci",
          "y": 79342
         },
         {
          "x": "conspiracy",
          "y": 495402
         },
         {
          "x": "fake",
          "y": 770287
         },
         {
          "x": "unreliable",
          "y": 104657
         },
         {
          "x": "hate",
          "y": 65264
         },
         {
          "x": "clickbait",
          "y": 176403
         },
         {
          "x": "rumor",
          "y": 376815
         },
         {
          "x": "reliable",
          "y": 1811644
         },
         {
          "x": "bias",
          "y": 771407
         },
         {
          "x": "satire",
          "y": 85523
         },
         {
          "x": "political",
          "y": 972283
         }
        ]
       },
       "encoding": {
        "x": {
         "axis": {
          "title": "type"
         },
         "field": "x",
         "type": "nominal"
        },
        "y": {
         "axis": {
          "title": "Count"
         },
         "field": "y",
         "type": "quantitative"
        }
       },
       "mark": "bar"
      },
      "image/png": "[encoded data removed]",
      "text/plain": [
       "<VegaLite 2 object>\n",
       "\n",
       "If you see this message, it means the renderer has not been properly enabled\n",
       "for the frontend that you are using. For more information, see\n",
       "https://altair-viz.github.io/user_guide/troubleshooting.html\n"
      ]
     },
     "execution_count": 10,
     "metadata": {},
     "output_type": "execute_result"
    }
   ],
   "source": [
    "alt.Chart(data).mark_bar().encode(\n",
    "    x = alt.X('x', axis=alt.Axis(title=\"type\")),\n",
    "    y = alt.Y('y', axis=alt.Axis(title=\"Count\"))\n",
    ")"
   ]
  },
  {
   "cell_type": "code",
   "execution_count": 25,
   "metadata": {},
   "outputs": [],
   "source": [
    "avgSentenceLength = {}\n",
    "for t in types:\n",
    "    data = collection.find({'type' : t}, {'avgSentenceLength' : True, '_id' : False})\n",
    "    data = [x['avgSentenceLength'] for x in data]\n",
    "    avgSentenceLength[t] = data"
   ]
  },
  {
   "cell_type": "code",
   "execution_count": 23,
   "metadata": {},
   "outputs": [],
   "source": [
    "data = pd.DataFrame(columns=['l', 'q1', 'q2', 'q3', 'h', 'type'])"
   ]
  },
  {
   "cell_type": "code",
   "execution_count": 24,
   "metadata": {},
   "outputs": [],
   "source": [
    "p = []\n",
    "for t in types:\n",
    "    percentile = np.percentile(avgSentenceLength[t], [25, 50, 75], interpolation='linear')\n",
    "    p.append({'l': percentile[0] - (percentile[1] - percentile[0]) * 1.5, 'q1' : percentile[0], 'q2' : percentile[1], 'q3' : percentile[2], 'h' : percentile[2] + (percentile[2] - percentile[1]) * 1.5,  'type' : t})"
   ]
  },
  {
   "cell_type": "code",
   "execution_count": 25,
   "metadata": {},
   "outputs": [],
   "source": [
    "data = data.append(p)"
   ]
  },
  {
   "cell_type": "code",
   "execution_count": 26,
   "metadata": {},
   "outputs": [
    {
     "data": {
      "application/vnd.vegalite.v2+json": {
       "$schema": "https://vega.github.io/schema/vega-lite/v2.6.0.json",
       "config": {
        "view": {
         "height": 300,
         "width": 400
        }
       },
       "datasets": {
        "data-c5fd6aaaf134cd0e22691b5783a35053": [
         {
          "h": 38.65625,
          "l": 9.29545454545454,
          "q1": 17.318181818181817,
          "q2": 22.666666666666668,
          "q3": 29.0625,
          "type": "unknown"
         },
         {
          "h": 38.87919799498747,
          "l": 6.081578947368419,
          "q1": 15.5,
          "q2": 21.778947368421054,
          "q3": 28.61904761904762,
          "type": "junksci"
         },
         {
          "h": 39.8,
          "l": 5.958978437610462,
          "q1": 15.463591375044185,
          "q2": 21.8,
          "q3": 29,
          "type": "conspiracy"
         },
         {
          "h": 33.8,
          "l": 8.799999999999999,
          "q1": 16,
          "q2": 20.8,
          "q3": 26,
          "type": "fake"
         },
         {
          "h": 30.6,
          "l": 16.004761904761907,
          "q1": 24.761904761904763,
          "q2": 30.6,
          "q3": 30.6,
          "type": "unreliable"
         },
         {
          "h": 33.304090531561464,
          "l": 14.071213425129084,
          "q1": 19.771342512908777,
          "q2": 23.571428571428573,
          "q3": 27.46449335548173,
          "type": "hate"
         },
         {
          "h": 35.12622549019608,
          "l": 11.312499999999998,
          "q1": 17.2,
          "q2": 21.125,
          "q3": 26.725490196078432,
          "type": "clickbait"
         },
         {
          "h": 36.19117647058823,
          "l": 14.08333333333333,
          "q1": 20.333333333333332,
          "q2": 24.5,
          "q3": 29.176470588235293,
          "type": "rumor"
         },
         {
          "h": 31.29365079365079,
          "l": 11.57142857142857,
          "q1": 17,
          "q2": 20.61904761904762,
          "q3": 24.88888888888889,
          "type": "reliable"
         },
         {
          "h": 35.940406976744185,
          "l": 8.019396551724137,
          "q1": 16.482758620689655,
          "q2": 22.125,
          "q3": 27.651162790697676,
          "type": "bias"
         },
         {
          "h": 35.125,
          "l": 10.745689655172411,
          "q1": 16.448275862068964,
          "q2": 20.25,
          "q3": 26.2,
          "type": "satire"
         },
         {
          "h": 34.20833333333333,
          "l": 11.166666666666668,
          "q1": 18.866666666666667,
          "q2": 24,
          "q3": 28.083333333333332,
          "type": "political"
         }
        ]
       },
       "layer": [
        {
         "data": {
          "name": "data-c5fd6aaaf134cd0e22691b5783a35053"
         },
         "encoding": {
          "x": {
           "field": "type",
           "type": "nominal"
          },
          "y": {
           "axis": {
            "title": "Average Sentence Length"
           },
           "field": "l",
           "type": "quantitative"
          },
          "y2": {
           "field": "q1",
           "type": "quantitative"
          }
         },
         "mark": "rule"
        },
        {
         "data": {
          "name": "data-c5fd6aaaf134cd0e22691b5783a35053"
         },
         "encoding": {
          "x": {
           "field": "type",
           "type": "nominal"
          },
          "y": {
           "field": "q1",
           "type": "quantitative"
          },
          "y2": {
           "field": "q3",
           "type": "quantitative"
          }
         },
         "mark": {
          "size": 5,
          "type": "bar"
         }
        },
        {
         "data": {
          "name": "data-c5fd6aaaf134cd0e22691b5783a35053"
         },
         "encoding": {
          "x": {
           "field": "type",
           "type": "nominal"
          },
          "y": {
           "field": "h",
           "type": "quantitative"
          },
          "y2": {
           "field": "q3",
           "type": "quantitative"
          }
         },
         "mark": "rule"
        },
        {
         "data": {
          "name": "data-c5fd6aaaf134cd0e22691b5783a35053"
         },
         "encoding": {
          "x": {
           "field": "type",
           "type": "nominal"
          },
          "y": {
           "field": "q2",
           "type": "quantitative"
          }
         },
         "mark": {
          "color": "white",
          "size": 5,
          "type": "tick"
         }
        }
       ]
      },
      "image/png": "[encoded data removed]",
      "text/plain": [
       "<VegaLite 2 object>\n",
       "\n",
       "If you see this message, it means the renderer has not been properly enabled\n",
       "for the frontend that you are using. For more information, see\n",
       "https://altair-viz.github.io/user_guide/troubleshooting.html\n"
      ]
     },
     "execution_count": 26,
     "metadata": {},
     "output_type": "execute_result"
    }
   ],
   "source": [
    "base = alt.Chart(data)\n",
    "\n",
    "lower_plot = base.mark_rule().encode(\n",
    "    y=alt.Y('l', axis=alt.Axis(title=\"Average Sentence Length\")),\n",
    "    y2='q1',\n",
    "    x='type'\n",
    ")\n",
    "\n",
    "middle_plot = base.mark_bar(size=5.0).encode(\n",
    "    y='q1',\n",
    "    y2='q3',\n",
    "    x='type'\n",
    ")\n",
    "upper_plot = base.mark_rule().encode(\n",
    "    y='h',\n",
    "    y2='q3',\n",
    "    x='type'\n",
    ")\n",
    "\n",
    "middle_tick = base.mark_tick(\n",
    "    color='white',\n",
    "    size=5.0\n",
    ").encode(\n",
    "    y='q2',\n",
    "    x='type',\n",
    ")\n",
    "\n",
    "lower_plot + middle_plot + upper_plot + middle_tick\n"
   ]
  },
  {
   "cell_type": "code",
   "execution_count": 62,
   "metadata": {},
   "outputs": [],
   "source": [
    "numSentences = {}\n",
    "for t in types:\n",
    "    data = collection.find({'type' : t}, {'numSentences' : True, '_id' : False})\n",
    "    data = [x['numSentences'] for x in data]\n",
    "    numSentences[t] = data\n",
    "    \n",
    "p = []\n",
    "for t in types:\n",
    "    percentile = np.percentile(numSentences[t], [25, 50, 75], interpolation='linear')\n",
    "    p.append({'l': percentile[0] - (percentile[1] - percentile[0]) * 1.5, 'q1' : percentile[0], 'q2' : percentile[1], 'q3' : percentile[2], 'h' : percentile[2] + (percentile[2] - percentile[1]) * 1.5,  'type' : t})"
   ]
  },
  {
   "cell_type": "code",
   "execution_count": 89,
   "metadata": {},
   "outputs": [
    {
     "data": {
      "application/vnd.vegalite.v2+json": {
       "$schema": "https://vega.github.io/schema/vega-lite/v2.6.0.json",
       "config": {
        "view": {
         "height": 300,
         "width": 400
        }
       },
       "datasets": {
        "data-d871b4e86ebf845d8bf564b5fbd491f4": [
         {
          "h": 24,
          "l": -1,
          "q1": 5,
          "q2": 9,
          "q3": 15,
          "type": "rumor"
         },
         {
          "h": 61.5,
          "l": -6,
          "q1": 9,
          "q2": 19,
          "q3": 36,
          "type": "hate"
         },
         {
          "h": 35,
          "l": 5,
          "q1": 5,
          "q2": 5,
          "q3": 17,
          "type": "unreliable"
         },
         {
          "h": 43.5,
          "l": -4,
          "q1": 2,
          "q2": 6,
          "q3": 21,
          "type": "conspiracy"
         },
         {
          "h": 46.5,
          "l": -11,
          "q1": 4,
          "q2": 14,
          "q3": 27,
          "type": "clickbait"
         },
         {
          "h": 34,
          "l": -6,
          "q1": 3,
          "q2": 9,
          "q3": 19,
          "type": "satire"
         },
         {
          "h": 44.5,
          "l": -5.5,
          "q1": 5,
          "q2": 12,
          "q3": 25,
          "type": "fake"
         },
         {
          "h": 66,
          "l": -6.5,
          "q1": 7,
          "q2": 16,
          "q3": 36,
          "type": "reliable"
         },
         {
          "h": 40,
          "l": -5,
          "q1": 4,
          "q2": 10,
          "q3": 22,
          "type": "bias"
         },
         {
          "h": 58,
          "l": 3,
          "q1": 9,
          "q2": 13,
          "q3": 31,
          "type": "political"
         },
         {
          "h": 51.5,
          "l": -11,
          "q1": 4,
          "q2": 14,
          "q3": 29,
          "type": "junksci"
         },
         {
          "h": 59,
          "l": -13.5,
          "q1": 3,
          "q2": 14,
          "q3": 32,
          "type": "unknown"
         }
        ]
       },
       "layer": [
        {
         "data": {
          "name": "data-d871b4e86ebf845d8bf564b5fbd491f4"
         },
         "encoding": {
          "x": {
           "field": "type",
           "type": "nominal"
          },
          "y": {
           "axis": {
            "title": "Number of sentences"
           },
           "field": "l",
           "type": "quantitative"
          },
          "y2": {
           "field": "q1",
           "type": "quantitative"
          }
         },
         "mark": "rule"
        },
        {
         "data": {
          "name": "data-d871b4e86ebf845d8bf564b5fbd491f4"
         },
         "encoding": {
          "x": {
           "field": "type",
           "type": "nominal"
          },
          "y": {
           "field": "q1",
           "type": "quantitative"
          },
          "y2": {
           "field": "q3",
           "type": "quantitative"
          }
         },
         "mark": {
          "size": 5,
          "type": "bar"
         }
        },
        {
         "data": {
          "name": "data-d871b4e86ebf845d8bf564b5fbd491f4"
         },
         "encoding": {
          "x": {
           "field": "type",
           "type": "nominal"
          },
          "y": {
           "field": "h",
           "type": "quantitative"
          },
          "y2": {
           "field": "q3",
           "type": "quantitative"
          }
         },
         "mark": "rule"
        },
        {
         "data": {
          "name": "data-d871b4e86ebf845d8bf564b5fbd491f4"
         },
         "encoding": {
          "x": {
           "field": "type",
           "type": "nominal"
          },
          "y": {
           "field": "q2",
           "type": "quantitative"
          }
         },
         "mark": {
          "color": "white",
          "size": 5,
          "type": "tick"
         }
        }
       ]
      },
      "image/png": "[encoded data removed]",
      "text/plain": [
       "<VegaLite 2 object>\n",
       "\n",
       "If you see this message, it means the renderer has not been properly enabled\n",
       "for the frontend that you are using. For more information, see\n",
       "https://altair-viz.github.io/user_guide/troubleshooting.html\n"
      ]
     },
     "execution_count": 89,
     "metadata": {},
     "output_type": "execute_result"
    }
   ],
   "source": [
    "data = pd.DataFrame(columns=['l', 'q1', 'q2', 'q3', 'h', 'type'])\n",
    "data = data.append(p)\n",
    "\n",
    "base = alt.Chart(data)\n",
    "\n",
    "lower_plot = base.mark_rule().encode(\n",
    "    y=alt.Y('l', axis=alt.Axis(title=\"Number of sentences\")),\n",
    "    y2='q1',\n",
    "    x='type'\n",
    ")\n",
    "\n",
    "middle_plot = base.mark_bar(size=5.0).encode(\n",
    "    y='q1',\n",
    "    y2='q3',\n",
    "    x='type'\n",
    ")\n",
    "upper_plot = base.mark_rule().encode(\n",
    "    y='h',\n",
    "    y2='q3',\n",
    "    x='type'\n",
    ")\n",
    "\n",
    "middle_tick = base.mark_tick(\n",
    "    color='white',\n",
    "    size=5.0\n",
    ").encode(\n",
    "    y='q2',\n",
    "    x='type',\n",
    ")\n",
    "\n",
    "lower_plot + middle_plot + upper_plot + middle_tick"
   ]
  },
  {
   "cell_type": "code",
   "execution_count": 11,
   "metadata": {},
   "outputs": [
    {
     "name": "stderr",
     "output_type": "stream",
     "text": [
      "/home/simon/anaconda3/lib/python3.7/site-packages/altair/utils/core.py:294: FutureWarning: A future version of pandas will default to `skipna=True`. To silence this warning, pass `skipna=True|False` explicitly.\n",
      "  attrs['type'] = infer_vegalite_type(data[attrs['field']])\n",
      "/home/simon/anaconda3/lib/python3.7/site-packages/altair/utils/core.py:294: FutureWarning: A future version of pandas will default to `skipna=True`. To silence this warning, pass `skipna=True|False` explicitly.\n",
      "  attrs['type'] = infer_vegalite_type(data[attrs['field']])\n",
      "/home/simon/anaconda3/lib/python3.7/site-packages/altair/utils/core.py:294: FutureWarning: A future version of pandas will default to `skipna=True`. To silence this warning, pass `skipna=True|False` explicitly.\n",
      "  attrs['type'] = infer_vegalite_type(data[attrs['field']])\n",
      "/home/simon/anaconda3/lib/python3.7/site-packages/altair/utils/core.py:294: FutureWarning: A future version of pandas will default to `skipna=True`. To silence this warning, pass `skipna=True|False` explicitly.\n",
      "  attrs['type'] = infer_vegalite_type(data[attrs['field']])\n",
      "/home/simon/anaconda3/lib/python3.7/site-packages/altair/utils/core.py:294: FutureWarning: A future version of pandas will default to `skipna=True`. To silence this warning, pass `skipna=True|False` explicitly.\n",
      "  attrs['type'] = infer_vegalite_type(data[attrs['field']])\n",
      "/home/simon/anaconda3/lib/python3.7/site-packages/altair/utils/core.py:294: FutureWarning: A future version of pandas will default to `skipna=True`. To silence this warning, pass `skipna=True|False` explicitly.\n",
      "  attrs['type'] = infer_vegalite_type(data[attrs['field']])\n",
      "/home/simon/anaconda3/lib/python3.7/site-packages/altair/utils/core.py:294: FutureWarning: A future version of pandas will default to `skipna=True`. To silence this warning, pass `skipna=True|False` explicitly.\n",
      "  attrs['type'] = infer_vegalite_type(data[attrs['field']])\n",
      "/home/simon/anaconda3/lib/python3.7/site-packages/altair/utils/core.py:294: FutureWarning: A future version of pandas will default to `skipna=True`. To silence this warning, pass `skipna=True|False` explicitly.\n",
      "  attrs['type'] = infer_vegalite_type(data[attrs['field']])\n",
      "/home/simon/anaconda3/lib/python3.7/site-packages/altair/utils/core.py:294: FutureWarning: A future version of pandas will default to `skipna=True`. To silence this warning, pass `skipna=True|False` explicitly.\n",
      "  attrs['type'] = infer_vegalite_type(data[attrs['field']])\n",
      "/home/simon/anaconda3/lib/python3.7/site-packages/altair/utils/core.py:294: FutureWarning: A future version of pandas will default to `skipna=True`. To silence this warning, pass `skipna=True|False` explicitly.\n",
      "  attrs['type'] = infer_vegalite_type(data[attrs['field']])\n",
      "/home/simon/anaconda3/lib/python3.7/site-packages/altair/utils/core.py:294: FutureWarning: A future version of pandas will default to `skipna=True`. To silence this warning, pass `skipna=True|False` explicitly.\n",
      "  attrs['type'] = infer_vegalite_type(data[attrs['field']])\n"
     ]
    }
   ],
   "source": [
    "domain = []\n",
    "count = []\n",
    "for t in types:\n",
    "    domain = []\n",
    "    count = []\n",
    "    for res in collection.aggregate([\n",
    "        {'$match': {'type' : t}},\n",
    "        {\n",
    "            '$group': {\n",
    "                    '_id' : {'domain' : '$domain'},\n",
    "                    'newsCount' : {'$sum' : 1}\n",
    "                }\n",
    "        }\n",
    "            ]):\n",
    "        domain.append(res['_id']['domain'])\n",
    "        count.append(res['newsCount'])\n",
    "    data = pd.DataFrame({'x' : domain, 'y' : count})\n",
    "    chart = alt.Chart(data).mark_bar().encode(\n",
    "        x = alt.X('x', axis=alt.Axis(title=\"domains\")),\n",
    "        y = alt.Y('y', axis=alt.Axis(title=\"Count\")))\n",
    "    chart.save('out/'+t+'.svg')"
   ]
  },
  {
   "cell_type": "code",
   "execution_count": 76,
   "metadata": {},
   "outputs": [],
   "source": [
    "metadata = db.metadata"
   ]
  },
  {
   "cell_type": "code",
   "execution_count": 81,
   "metadata": {},
   "outputs": [],
   "source": [
    "for i in range(0, len(domains)):\n",
    "    metadata.insert_one({'_id' : i, 'domain' : domains[i], 'metadata' : {'count' : {'total' : count[i]}}})"
   ]
  },
  {
   "cell_type": "code",
   "execution_count": 88,
   "metadata": {},
   "outputs": [],
   "source": [
    "# Looking if some domains have multiple kind of news\n",
    "for res in collection.aggregate([\n",
    "    {\n",
    "        '$group': {\n",
    "                '_id' : {'domain' : '$domain', 'type' : '$type'},\n",
    "                'newsCount' : {'$sum' : 1}\n",
    "            }\n",
    "    },\n",
    "    {\n",
    "        '$group' : \n",
    "        {\n",
    "            '_id' : '$_id.domain',\n",
    "            'meta' : \n",
    "            {\n",
    "                '$push' : \n",
    "                {\n",
    "                    'type' : '$_id.type',\n",
    "                    'count' : '$newsCount'\n",
    "                }\n",
    "            }\n",
    "        }\n",
    "     }\n",
    "        ]):\n",
    "    if len(res['meta']) > 1:\n",
    "        print(res)"
   ]
  }
 ],
 "metadata": {
  "kernelspec": {
   "display_name": "Python 3",
   "language": "python",
   "name": "python3"
  },
  "language_info": {
   "codemirror_mode": {
    "name": "ipython",
    "version": 3
   },
   "file_extension": ".py",
   "mimetype": "text/x-python",
   "name": "python",
   "nbconvert_exporter": "python",
   "pygments_lexer": "ipython3",
   "version": "3.7.3"
  }
 },
 "nbformat": 4,
 "nbformat_minor": 2
}
