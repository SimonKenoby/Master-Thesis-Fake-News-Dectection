{
 "cells": [
  {
   "cell_type": "code",
   "execution_count": 2,
   "metadata": {},
   "outputs": [],
   "source": [
    "import pandas as pd\n",
    "import matplotlib.pyplot as plt\n",
    "import numpy as np\n",
    "import seaborn as sns\n",
    "import sys,os\n",
    "import json\n",
    "import random\n",
    "import csv\n",
    "import string\n",
    "import swifter\n",
    "from scipy import stats\n",
    "from tqdm import tqdm\n",
    "\n",
    "import nltk\n",
    "from nltk import tokenize"
   ]
  },
  {
   "cell_type": "code",
   "execution_count": null,
   "metadata": {},
   "outputs": [],
   "source": [
    "fake_directories = ['FakeNewsNet-master\\Data\\BuzzFeed\\FakeNewsContent', 'FakeNewsNet-master\\Data\\PolitiFact\\FakeNewsContent']\n",
    "real_directories = ['FakeNewsNet-master\\Data\\BuzzFeed\\RealNewsContent', 'FakeNewsNet-master\\Data\\PolitiFact\\RealNewsContent']"
   ]
  },
  {
   "cell_type": "code",
   "execution_count": null,
   "metadata": {},
   "outputs": [],
   "source": [
    "fake_files_list = []\n",
    "for fake_dir in fake_directories:\n",
    "    for root, directory, files in os.walk(fake_dir):\n",
    "        for name in files:\n",
    "            fake_files_list.append(os.path.join(root, name))\n",
    "real_files_list = []\n",
    "for real_dir in real_directories:\n",
    "    for root, directory, files in os.walk(real_dir):\n",
    "        for name in files:\n",
    "            real_files_list.append(os.path.join(root, name))"
   ]
  },
  {
   "cell_type": "code",
   "execution_count": null,
   "metadata": {},
   "outputs": [],
   "source": [
    "# Open the first file in order to retreive dictionary keys\n",
    "with open(fake_files_list[0]) as f:\n",
    "    j = json.loads(f.read())\n",
    "keys = j.keys()\n",
    "data = pd.DataFrame(columns=keys)\n",
    "for file_name in fake_files_list:\n",
    "    with open(file_name) as f:\n",
    "        j = json.loads(f.read())\n",
    "        j['type'] = 'fake'\n",
    "        data = data.append(j, ignore_index=True)\n",
    "for file_name in real_files_list:\n",
    "    with open(file_name) as f:\n",
    "        j = json.loads(f.read())\n",
    "        j['type'] = 'realiable'\n",
    "        data = data.append(j, ignore_index=True)     "
   ]
  },
  {
   "cell_type": "code",
   "execution_count": null,
   "metadata": {},
   "outputs": [],
   "source": [
    "print(\"True news shape : {} news, {} cols\".format(data[data['type'] == 'Real'].shape[0], data[data['type'] == 'Real'].shape[1]))\n",
    "print(\"Fake news shape : {} news, {} cols\".format(data[data['type'] == 'Fake'].shape[0], data[data['type'] == 'Real'].shape[1]))"
   ]
  },
  {
   "cell_type": "code",
   "execution_count": null,
   "metadata": {},
   "outputs": [],
   "source": [
    "data_example = pd.read_csv('https://raw.githubusercontent.com/several27/FakeNewsCorpus/master/news_sample.csv')"
   ]
  },
  {
   "cell_type": "code",
   "execution_count": null,
   "metadata": {},
   "outputs": [],
   "source": []
  }
 ],
 "metadata": {
  "kernelspec": {
   "display_name": "Python 3",
   "language": "python",
   "name": "python3"
  },
  "language_info": {
   "codemirror_mode": {
    "name": "ipython",
    "version": 3
   },
   "file_extension": ".py",
   "mimetype": "text/x-python",
   "name": "python",
   "nbconvert_exporter": "python",
   "pygments_lexer": "ipython3",
   "version": "3.7.3"
  }
 },
 "nbformat": 4,
 "nbformat_minor": 2
}
